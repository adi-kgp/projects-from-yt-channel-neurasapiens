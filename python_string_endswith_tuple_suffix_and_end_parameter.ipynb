{
 "cells": [
  {
   "cell_type": "markdown",
   "id": "a197e9e5-9906-4604-accd-aecafa52be28",
   "metadata": {},
   "source": [
    "### Python String endswith() Tuple Suffix and End Parameter"
   ]
  },
  {
   "cell_type": "markdown",
   "id": "739e1e67-ffa5-43ec-862e-e48b1fab0091",
   "metadata": {},
   "source": [
    "In Python, the endswith() method returns True if the string ends with the specified suffix, False otherwise."
   ]
  },
  {
   "cell_type": "markdown",
   "id": "d4247d2a-cd96-4897-b6e3-e24e50e5be00",
   "metadata": {},
   "source": [
    "**Syntax**\n",
    "\n",
    "string_object.endswith(suffix[, start[, end]])"
   ]
  },
  {
   "cell_type": "code",
   "execution_count": 1,
   "id": "857f3e60-75b4-4efa-9cc3-e43654704046",
   "metadata": {},
   "outputs": [
    {
     "data": {
      "text/plain": [
       "'What is your favorite programming language?'"
      ]
     },
     "execution_count": 1,
     "metadata": {},
     "output_type": "execute_result"
    }
   ],
   "source": [
    "example_string = \"What is your favorite programming language?\"\n",
    "example_string"
   ]
  },
  {
   "cell_type": "markdown",
   "id": "71d0328e-089f-4ff5-b713-4ff8c59caf96",
   "metadata": {},
   "source": [
    "#### Tuple Suffix"
   ]
  },
  {
   "cell_type": "code",
   "execution_count": 2,
   "id": "02e93f7e-245c-4041-9dae-83108dd267c2",
   "metadata": {},
   "outputs": [
    {
     "name": "stdout",
     "output_type": "stream",
     "text": [
      "False\n"
     ]
    }
   ],
   "source": [
    "# If a tuple is specified then the endswith() method would check if any of the items exist in the string\n",
    "\n",
    "tuple_check = example_string.endswith(('java', 'language'))\n",
    "print(tuple_check) # Return False"
   ]
  },
  {
   "cell_type": "code",
   "execution_count": 3,
   "id": "07f2ece5-3cac-449c-8815-5fb998eb283e",
   "metadata": {},
   "outputs": [
    {
     "name": "stdout",
     "output_type": "stream",
     "text": [
      "False\n"
     ]
    }
   ],
   "source": [
    "# With three words\n",
    "print(example_string.endswith(('Python', 'C++', 'HTML'))) # Return False"
   ]
  },
  {
   "cell_type": "code",
   "execution_count": 4,
   "id": "28537c1e-62de-4c08-8a82-d681ec1b6f53",
   "metadata": {},
   "outputs": [
    {
     "name": "stdout",
     "output_type": "stream",
     "text": [
      "True\n"
     ]
    }
   ],
   "source": [
    "print(example_string.endswith((\"language\", \"language?\", \"lang\"))) # Return True"
   ]
  },
  {
   "cell_type": "markdown",
   "id": "54dcd856-57df-4651-ba7b-2f1362558a35",
   "metadata": {},
   "source": [
    "#### Start and End Parameter"
   ]
  },
  {
   "cell_type": "code",
   "execution_count": 5,
   "id": "4f649149-f8d4-4212-8412-333bbe027596",
   "metadata": {},
   "outputs": [
    {
     "name": "stdout",
     "output_type": "stream",
     "text": [
      "False\n"
     ]
    }
   ],
   "source": [
    "# Check with Start and End parameters\n",
    "# Only check the substring \"What is\"\n",
    "print(example_string.endswith((\"programming\", \"language\"), 0, 7)) # 0:6 \"What is\""
   ]
  },
  {
   "cell_type": "code",
   "execution_count": 10,
   "id": "50f71ab5-06f4-496a-9dde-df16971c904d",
   "metadata": {},
   "outputs": [
    {
     "name": "stdout",
     "output_type": "stream",
     "text": [
      "False\n",
      "True\n"
     ]
    }
   ],
   "source": [
    "print(example_string[0:7].endswith((\"programming\")))\n",
    "\n",
    "diff_string = \"What is programming\"\n",
    "print(diff_string.endswith((\"programming\"),0, len(diff_string)))"
   ]
  },
  {
   "cell_type": "code",
   "execution_count": 35,
   "id": "20d12716-f0f8-4fbc-aba1-76b095ad5d7c",
   "metadata": {},
   "outputs": [
    {
     "name": "stdout",
     "output_type": "stream",
     "text": [
      "False\n",
      "True\n"
     ]
    }
   ],
   "source": [
    "# With question mark included \n",
    "# First check for the substring \"programming language?\"\n",
    "print(example_string.endswith((\"programming\", \"language\"), 22, 45)) # Returns True\n",
    "print(example_string.endswith((\"programming\", \"language?\"), 24, 45)) # Returns True"
   ]
  },
  {
   "cell_type": "code",
   "execution_count": 36,
   "id": "bf30573f-70b2-4407-9e3c-10f31c0bd9aa",
   "metadata": {},
   "outputs": [
    {
     "name": "stdout",
     "output_type": "stream",
     "text": [
      "programming language?\n"
     ]
    }
   ],
   "source": [
    "# Alternative to check with substring\n",
    "substring = example_string[22:45]\n",
    "print(substring)"
   ]
  },
  {
   "cell_type": "code",
   "execution_count": 37,
   "id": "d55ef1d2-a741-4810-b2d5-a3318338efe5",
   "metadata": {},
   "outputs": [
    {
     "name": "stdout",
     "output_type": "stream",
     "text": [
      "True\n"
     ]
    }
   ],
   "source": [
    "# Check if it endswith \"programming\" or \"language?\"\n",
    "print(substring.endswith((\"programming\", \"language?\"))) # Returns True"
   ]
  },
  {
   "cell_type": "code",
   "execution_count": null,
   "id": "8cbb71a8-8ca5-4f48-80fb-43c3a98ef274",
   "metadata": {},
   "outputs": [],
   "source": []
  }
 ],
 "metadata": {
  "kernelspec": {
   "display_name": "Python 3 (ipykernel)",
   "language": "python",
   "name": "python3"
  },
  "language_info": {
   "codemirror_mode": {
    "name": "ipython",
    "version": 3
   },
   "file_extension": ".py",
   "mimetype": "text/x-python",
   "name": "python",
   "nbconvert_exporter": "python",
   "pygments_lexer": "ipython3",
   "version": "3.10.12"
  }
 },
 "nbformat": 4,
 "nbformat_minor": 5
}
