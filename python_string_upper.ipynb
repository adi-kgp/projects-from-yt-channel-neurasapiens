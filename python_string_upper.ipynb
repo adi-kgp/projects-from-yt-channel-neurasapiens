{
 "cells": [
  {
   "cell_type": "markdown",
   "id": "04d1bbbf-b6e5-4215-bef7-28842d1466e0",
   "metadata": {},
   "source": [
    "### Python String upper()"
   ]
  },
  {
   "cell_type": "markdown",
   "id": "8d0f390d-d3c7-406c-b9f8-96d59ff7be36",
   "metadata": {},
   "source": [
    "In Python, the upper() method returns a copy of the specified String converted to uppercase.\n",
    "\n",
    "**Syntax**\n",
    "\n",
    "string_object.upper()\n",
    "\n",
    "For the String method upper() there are no parameters."
   ]
  },
  {
   "cell_type": "code",
   "execution_count": 1,
   "id": "43818451-ebc2-4a18-9c8a-1002138cc633",
   "metadata": {},
   "outputs": [
    {
     "data": {
      "text/plain": [
       "'Some projects require using multiple programming languages'"
      ]
     },
     "execution_count": 1,
     "metadata": {},
     "output_type": "execute_result"
    }
   ],
   "source": [
    "program_fact = \"Some projects require using multiple programming languages\"\n",
    "program_fact"
   ]
  },
  {
   "cell_type": "markdown",
   "id": "449ae8a2-c3e0-4a42-858e-d01ac245d833",
   "metadata": {},
   "source": [
    "#### Uppercase Conversion"
   ]
  },
  {
   "cell_type": "code",
   "execution_count": 3,
   "id": "01cdfb90-83f4-4d85-b604-631739301c67",
   "metadata": {},
   "outputs": [
    {
     "name": "stdout",
     "output_type": "stream",
     "text": [
      "New string where all letters are uppercase: SOME PROJECTS REQUIRE USING MULTIPLE PROGRAMMING LANGUAGES\n",
      "\n",
      " \n"
     ]
    }
   ],
   "source": [
    "convert_upper = program_fact.upper()\n",
    "print(\"New string where all letters are uppercase:\", convert_upper) # Returns the specified String where all letters are capitalized "
   ]
  },
  {
   "cell_type": "code",
   "execution_count": 4,
   "id": "23d441f8-53e1-4716-89d4-a6acd5781619",
   "metadata": {},
   "outputs": [
    {
     "name": "stdout",
     "output_type": "stream",
     "text": [
      "\n"
     ]
    }
   ],
   "source": [
    "# Empty String \n",
    "print(\"\".upper()) # Returns Nothing - As there are no alphabetical characters"
   ]
  },
  {
   "cell_type": "code",
   "execution_count": 5,
   "id": "3401ff74-87b6-42a9-bb4e-375ec63da746",
   "metadata": {},
   "outputs": [
    {
     "name": "stdout",
     "output_type": "stream",
     "text": [
      " \n"
     ]
    }
   ],
   "source": [
    "whitespace_str = \" \"\n",
    "print(whitespace_str.upper()) # Returns only the white space"
   ]
  },
  {
   "cell_type": "code",
   "execution_count": null,
   "id": "3abcab95-036e-4e50-bdf8-5524ffa6730e",
   "metadata": {},
   "outputs": [],
   "source": []
  }
 ],
 "metadata": {
  "kernelspec": {
   "display_name": "Python 3 (ipykernel)",
   "language": "python",
   "name": "python3"
  },
  "language_info": {
   "codemirror_mode": {
    "name": "ipython",
    "version": 3
   },
   "file_extension": ".py",
   "mimetype": "text/x-python",
   "name": "python",
   "nbconvert_exporter": "python",
   "pygments_lexer": "ipython3",
   "version": "3.10.12"
  }
 },
 "nbformat": 4,
 "nbformat_minor": 5
}
