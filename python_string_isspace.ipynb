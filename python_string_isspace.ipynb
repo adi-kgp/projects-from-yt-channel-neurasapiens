{
 "cells": [
  {
   "cell_type": "markdown",
   "id": "2cbc75fc-5958-47c2-a954-cb0e5b43f028",
   "metadata": {},
   "source": [
    "### Python String isspace()\n",
    "\n",
    "In python, the isspace() method returns True if all characters in the specified String are whitespace and there is at least one character in the specified String. Otherwise it will return False. \n",
    "\n",
    "**Syntax**\n",
    "\n",
    "string_object.isspace()\n",
    "\n",
    "For the String method isspace() there are no parameters. "
   ]
  },
  {
   "cell_type": "code",
   "execution_count": 1,
   "id": "05e1f6a4-658a-4681-a82d-00b9941fbf1b",
   "metadata": {},
   "outputs": [
    {
     "data": {
      "text/plain": [
       "'There are around 700 seperate programming languages'"
      ]
     },
     "execution_count": 1,
     "metadata": {},
     "output_type": "execute_result"
    }
   ],
   "source": [
    "num_lang = \"There are around 700 seperate programming languages\"\n",
    "num_lang"
   ]
  },
  {
   "cell_type": "markdown",
   "id": "c68c3a37-fe52-47f8-b382-d2cc43549bec",
   "metadata": {},
   "source": [
    "#### Whitespace Check"
   ]
  },
  {
   "cell_type": "code",
   "execution_count": 5,
   "id": "930f60ea-c7dc-4e7f-af86-1ef0f3fe2ffb",
   "metadata": {},
   "outputs": [
    {
     "name": "stdout",
     "output_type": "stream",
     "text": [
      "False\n",
      "False\n",
      "False\n"
     ]
    }
   ],
   "source": [
    "# Check if the num_lang String contains only whitespace\n",
    "print(num_lang.isspace()) # Returns False because there are alphabetical characters and numbers\n",
    "\n",
    "# Alphanumeric \n",
    "alphan_string = \"H3llo\"\n",
    "print(alphan_string.isspace()) # Returns False - due to the alphabetical characters \n",
    "\n",
    "# Special Characters\n",
    "num_three = \"#3 \"\n",
    "print(num_three.isspace()) # Returns False - due to newline character \\n"
   ]
  },
  {
   "cell_type": "code",
   "execution_count": 7,
   "id": "ef9d4d29-c588-4937-b4ce-7af0834ba28d",
   "metadata": {},
   "outputs": [
    {
     "name": "stdout",
     "output_type": "stream",
     "text": [
      "False\n"
     ]
    }
   ],
   "source": [
    "tab_str = \"1 \\t\"\n",
    "print(tab_str.isspace()) # Returns False - due to tab seperated character \\t"
   ]
  },
  {
   "cell_type": "markdown",
   "id": "27ba0c2e-868e-41a5-8011-4b53821f88be",
   "metadata": {},
   "source": [
    "#### Valid Whitespace Character String"
   ]
  },
  {
   "cell_type": "code",
   "execution_count": 9,
   "id": "83a344b3-a95f-4afd-9778-e7a1195d0c29",
   "metadata": {},
   "outputs": [
    {
     "name": "stdout",
     "output_type": "stream",
     "text": [
      "Are all characters in this String whitespaces? [True/False] True\n"
     ]
    }
   ],
   "source": [
    "double_whitespace_str = \"  \" # Two white spaces\n",
    "print(\"Are all characters in this String whitespaces? [True/False]\", double_whitespace_str.isspace()) # Return True - Only whitespace characters"
   ]
  },
  {
   "cell_type": "code",
   "execution_count": 11,
   "id": "4fe832aa-fa05-45e5-a58a-065ced2d5b11",
   "metadata": {},
   "outputs": [
    {
     "name": "stdout",
     "output_type": "stream",
     "text": [
      " \n",
      "Are all characters in this String whitespaces? [True/False] True\n"
     ]
    }
   ],
   "source": [
    "# Unicode whitespace is \\u0020\n",
    "unicode_wspace = \"\\u0020\"\n",
    "print(unicode_wspace)\n",
    "print(\"Are all characters in this String whitespaces? [True/False]\", unicode_wspace.isspace()) # Returns True - Only whitespace characters "
   ]
  },
  {
   "cell_type": "code",
   "execution_count": null,
   "id": "69ad2471-00b2-4ff9-a4d1-896da64cfcf6",
   "metadata": {},
   "outputs": [],
   "source": []
  },
  {
   "cell_type": "code",
   "execution_count": null,
   "id": "4b8184b0-6f19-49c7-93a4-d62ec4b565cc",
   "metadata": {},
   "outputs": [],
   "source": []
  }
 ],
 "metadata": {
  "kernelspec": {
   "display_name": "Python 3 (ipykernel)",
   "language": "python",
   "name": "python3"
  },
  "language_info": {
   "codemirror_mode": {
    "name": "ipython",
    "version": 3
   },
   "file_extension": ".py",
   "mimetype": "text/x-python",
   "name": "python",
   "nbconvert_exporter": "python",
   "pygments_lexer": "ipython3",
   "version": "3.10.12"
  }
 },
 "nbformat": 4,
 "nbformat_minor": 5
}
