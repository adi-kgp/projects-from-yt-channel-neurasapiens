{
 "cells": [
  {
   "cell_type": "markdown",
   "id": "93d1c5fe-33ad-4ec4-8d22-70603085bcf4",
   "metadata": {},
   "source": [
    "### Python String replace()"
   ]
  },
  {
   "cell_type": "markdown",
   "id": "788caa6f-774a-48c0-8fba-f8276690921f",
   "metadata": {},
   "source": [
    "In Python, the replace() method returns a copy of the string with all occurrences of the old substring replaced by the new. If the optional argument count is given, only the first count occurrences are replaced. \n",
    "\n",
    "**Syntax**\n",
    "\n",
    "string_object.replace(old, new[, count])\n",
    "\n",
    "* [, count] -is an optional argument where if specified only the first count occurrences are replaced. "
   ]
  },
  {
   "cell_type": "code",
   "execution_count": 1,
   "id": "109df211-709a-479b-8f09-21afd647964d",
   "metadata": {},
   "outputs": [
    {
     "data": {
      "text/plain": [
       "'My favorite language is this.'"
      ]
     },
     "execution_count": 1,
     "metadata": {},
     "output_type": "execute_result"
    }
   ],
   "source": [
    "# Favorite language\n",
    "fav_lang = \"My favorite language is this.\"\n",
    "fav_lang"
   ]
  },
  {
   "cell_type": "code",
   "execution_count": 3,
   "id": "6b99aea4-8a6b-4a30-9662-6107846788f3",
   "metadata": {},
   "outputs": [
    {
     "name": "stdout",
     "output_type": "stream",
     "text": [
      "My favorite language is Python.\n"
     ]
    }
   ],
   "source": [
    "# Replace the old word \"this\" to the new word \"Python\"\n",
    "print(fav_lang.replace(\"this\", \"Python\")) # \"this -> Python\""
   ]
  },
  {
   "cell_type": "markdown",
   "id": "8dd2304c-83eb-46d5-b373-75023fddaf0f",
   "metadata": {},
   "source": [
    "In Python, strings are immutable. So fav_lang above the original sentence remains unchanged after running the pring statement with replace. \n",
    "\n",
    "However, the updated string value can be stored in a new variable. "
   ]
  },
  {
   "cell_type": "code",
   "execution_count": 4,
   "id": "68de2164-2154-43f3-a67d-16052a765edc",
   "metadata": {},
   "outputs": [
    {
     "name": "stdout",
     "output_type": "stream",
     "text": [
      "My favorite language is this.\n"
     ]
    }
   ],
   "source": [
    "print(fav_lang) # original sentence"
   ]
  },
  {
   "cell_type": "code",
   "execution_count": 5,
   "id": "c274ef0f-1973-4114-afc7-b1cf6c88cc2d",
   "metadata": {},
   "outputs": [
    {
     "name": "stdout",
     "output_type": "stream",
     "text": [
      "My favorite language is Python.\n"
     ]
    }
   ],
   "source": [
    "new_fav_lang = fav_lang.replace(\"this\", \"Python\")\n",
    "print(new_fav_lang)"
   ]
  },
  {
   "cell_type": "markdown",
   "id": "02e79cd6-3e5e-4197-81c4-9f288f6d07a7",
   "metadata": {},
   "source": [
    "#### Optional Count\n",
    "\n",
    "The count is the number of occurrences which will be replaced in the string with the new word specified where there is a match with the old word. "
   ]
  },
  {
   "cell_type": "code",
   "execution_count": 6,
   "id": "2138960b-fa05-46dd-bf81-9a7767e2a032",
   "metadata": {},
   "outputs": [
    {
     "name": "stdout",
     "output_type": "stream",
     "text": [
      "My favorite language is this.\n"
     ]
    }
   ],
   "source": [
    "print(fav_lang.replace(\"a\", \"b\", 0)) # If 0 is entered then no occurences in the string are replaced"
   ]
  },
  {
   "cell_type": "code",
   "execution_count": 7,
   "id": "1bbc698f-3a18-4836-8ac1-62016c1cc594",
   "metadata": {},
   "outputs": [
    {
     "name": "stdout",
     "output_type": "stream",
     "text": [
      "My fbvorite language is this.\n"
     ]
    }
   ],
   "source": [
    "print(fav_lang.replace(\"a\", \"b\", 1)) # First occurrence of the letter \"a\" is replaced to \"b\""
   ]
  },
  {
   "cell_type": "code",
   "execution_count": 8,
   "id": "4f45d3d1-5fdf-4570-825a-8e6e4746ff14",
   "metadata": {},
   "outputs": [
    {
     "name": "stdout",
     "output_type": "stream",
     "text": [
      "My fbvorite lbnguage is this.\n"
     ]
    }
   ],
   "source": [
    "print(fav_lang.replace(\"a\", \"b\", 2)) # First two occurrence of the letter \"a\" are replaced by \"b\""
   ]
  },
  {
   "cell_type": "code",
   "execution_count": null,
   "id": "6e24af6e-e770-4e3e-ac52-3022350d0ffb",
   "metadata": {},
   "outputs": [],
   "source": []
  }
 ],
 "metadata": {
  "kernelspec": {
   "display_name": "Python 3 (ipykernel)",
   "language": "python",
   "name": "python3"
  },
  "language_info": {
   "codemirror_mode": {
    "name": "ipython",
    "version": 3
   },
   "file_extension": ".py",
   "mimetype": "text/x-python",
   "name": "python",
   "nbconvert_exporter": "python",
   "pygments_lexer": "ipython3",
   "version": "3.10.12"
  }
 },
 "nbformat": 4,
 "nbformat_minor": 5
}
