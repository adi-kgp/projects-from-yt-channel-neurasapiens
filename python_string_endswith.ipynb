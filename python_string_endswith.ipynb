{
 "cells": [
  {
   "cell_type": "markdown",
   "id": "fc1ce55c-7786-4d71-81a9-591a2af63931",
   "metadata": {},
   "source": [
    "### Python String endswith() String Suffix and Start Parameter"
   ]
  },
  {
   "cell_type": "markdown",
   "id": "839a4c34-0701-4266-a8b7-6e78d43a83a4",
   "metadata": {},
   "source": [
    "In Python, the endswith() method return True if the string ends with the specified suffix, False otherwise. "
   ]
  },
  {
   "cell_type": "markdown",
   "id": "668daa87-8e33-4ad4-8a70-eadda66f5b3d",
   "metadata": {},
   "source": [
    "**Syntax**\n",
    "\n",
    "string_object.endswith(suffix[, start[, end]])"
   ]
  },
  {
   "cell_type": "code",
   "execution_count": 1,
   "id": "25444769-27ee-4337-a072-90d55b1a97bb",
   "metadata": {},
   "outputs": [
    {
     "data": {
      "text/plain": [
       "'What is your favorite programming language?'"
      ]
     },
     "execution_count": 1,
     "metadata": {},
     "output_type": "execute_result"
    }
   ],
   "source": [
    "example_string = \"What is your favorite programming language?\"\n",
    "example_string"
   ]
  },
  {
   "cell_type": "markdown",
   "id": "b76eaa89-8164-4ce2-8716-933f1275307e",
   "metadata": {},
   "source": [
    "#### Suffix paramter"
   ]
  },
  {
   "cell_type": "code",
   "execution_count": 6,
   "id": "dd208600-167e-4c9e-9c5d-093c87efb82c",
   "metadata": {},
   "outputs": [
    {
     "name": "stdout",
     "output_type": "stream",
     "text": [
      "False\n",
      "False\n",
      "True\n",
      "True\n",
      "True\n"
     ]
    }
   ],
   "source": [
    "check_end = example_string.endswith('Python')\n",
    "print(check_end) # Returns False \n",
    "\n",
    "print(example_string.endswith('language')) # Returns False\n",
    "\n",
    "print(example_string.endswith('language?')) # Returns True\n",
    "\n",
    "print(example_string.endswith('programming language?')) # Returns True\n",
    "\n",
    "print(example_string.endswith('What is your favorite programming language?')) # Returns True"
   ]
  },
  {
   "cell_type": "markdown",
   "id": "a04a238a-97a7-4291-9cbb-39157f683c52",
   "metadata": {},
   "source": [
    "#### Start Parameter"
   ]
  },
  {
   "cell_type": "code",
   "execution_count": 8,
   "id": "beba1ba1-104f-47c0-a12d-84e224570530",
   "metadata": {},
   "outputs": [
    {
     "name": "stdout",
     "output_type": "stream",
     "text": [
      "True\n"
     ]
    }
   ],
   "source": [
    "# beginning position\n",
    "string_check = example_string.endswith('language?', 0) # Return True\n",
    "print(string_check)"
   ]
  },
  {
   "cell_type": "code",
   "execution_count": 9,
   "id": "2f818c18-b6d7-47ba-904f-c3d4ba644f45",
   "metadata": {},
   "outputs": [
    {
     "name": "stdout",
     "output_type": "stream",
     "text": [
      "True\n"
     ]
    }
   ],
   "source": [
    "# Equivalent to string slicing then check the ending string suffix\n",
    "print(example_string[0:].endswith('language?')) # Return True"
   ]
  },
  {
   "cell_type": "code",
   "execution_count": 10,
   "id": "4b12e6f1-5aaa-4a0e-a27f-93baac1a781f",
   "metadata": {},
   "outputs": [
    {
     "name": "stdout",
     "output_type": "stream",
     "text": [
      "False\n"
     ]
    }
   ],
   "source": [
    "print(example_string.endswith('language', 0)) # Return False"
   ]
  },
  {
   "cell_type": "code",
   "execution_count": null,
   "id": "065b384c-d3bd-4fcd-9c7d-01366ab0045b",
   "metadata": {},
   "outputs": [],
   "source": []
  },
  {
   "cell_type": "code",
   "execution_count": null,
   "id": "8a6eb6d3-eba3-4383-8223-23610bc89e10",
   "metadata": {},
   "outputs": [],
   "source": []
  }
 ],
 "metadata": {
  "kernelspec": {
   "display_name": "Python 3 (ipykernel)",
   "language": "python",
   "name": "python3"
  },
  "language_info": {
   "codemirror_mode": {
    "name": "ipython",
    "version": 3
   },
   "file_extension": ".py",
   "mimetype": "text/x-python",
   "name": "python",
   "nbconvert_exporter": "python",
   "pygments_lexer": "ipython3",
   "version": "3.10.12"
  }
 },
 "nbformat": 4,
 "nbformat_minor": 5
}
