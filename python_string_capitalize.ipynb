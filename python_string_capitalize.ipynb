{
 "cells": [
  {
   "cell_type": "markdown",
   "id": "86b8f16c-69d4-4a4e-b048-b9edac5a3142",
   "metadata": {},
   "source": [
    "### Python String Capitalize"
   ]
  },
  {
   "cell_type": "markdown",
   "id": "27501253-4bca-4c12-bac4-b5d9ed472dbf",
   "metadata": {},
   "source": [
    "In Python, the capitalize() method returns a copy of the original string and converts the first character of the string to a capital (uppercase) letter while making all other characters in the string lowercase letters. \n",
    "\n",
    "**Syntax**\n",
    "\n",
    "string_object.capitalize()\n",
    "\n",
    "The capitalize() method does not take any parameter. "
   ]
  },
  {
   "cell_type": "code",
   "execution_count": 1,
   "id": "1c5f8909-114f-46e6-982b-07536d3e2f5e",
   "metadata": {},
   "outputs": [
    {
     "data": {
      "text/plain": [
       "'python is an object-oriented programming language.'"
      ]
     },
     "execution_count": 1,
     "metadata": {},
     "output_type": "execute_result"
    }
   ],
   "source": [
    "# uncapitalized sentence\n",
    "python_language = \"python is an object-oriented programming language.\"\n",
    "python_language"
   ]
  },
  {
   "cell_type": "code",
   "execution_count": 3,
   "id": "74ae8928-6af1-4917-94c6-c0fe83e79516",
   "metadata": {},
   "outputs": [
    {
     "name": "stdout",
     "output_type": "stream",
     "text": [
      "Python is an object-oriented programming language.\n"
     ]
    }
   ],
   "source": [
    "# capitalize the first letter for the sentence\n",
    "# Returns \"Python is an object-oriented programming language\"\n",
    "print(python_language.capitalize()) # \"Python...\""
   ]
  },
  {
   "cell_type": "markdown",
   "id": "db343d7d-aeeb-4d83-89f1-badddc19802c",
   "metadata": {},
   "source": [
    "String interpolation with **capitalize** method"
   ]
  },
  {
   "cell_type": "code",
   "execution_count": 4,
   "id": "d473cf8b-cf6b-4c3f-a8ee-d78166af61c9",
   "metadata": {},
   "outputs": [
    {
     "name": "stdout",
     "output_type": "stream",
     "text": [
      "Python and C++ both are object-oriented programming languages.\n"
     ]
    }
   ],
   "source": [
    "print(\"python\".capitalize(), \"and\", \"c++\".capitalize(), \"both are object-oriented programming languages.\")"
   ]
  },
  {
   "cell_type": "code",
   "execution_count": 5,
   "id": "ef6a7cd5-1b9d-4f99-84cc-a8eea4198c0d",
   "metadata": {},
   "outputs": [
    {
     "name": "stdout",
     "output_type": "stream",
     "text": [
      "Original lowercase sentence\n",
      "python and c++ are both object-oriented programming languages. \n",
      "\n",
      "Capitalized Sentence\n",
      "Python and C++ are both object-oriented programming languages.\n"
     ]
    }
   ],
   "source": [
    "# store both python and c++ strings as a variable for concatenation\n",
    "python_lang = \"python\"\n",
    "cplusplus_lang = \"c++\"\n",
    "\n",
    "print(\"Original lowercase sentence\")\n",
    "print(python_lang, \"and\", cplusplus_lang, \"are both object-oriented programming languages.\", \"\\n\")\n",
    "\n",
    "print(\"Capitalized Sentence\")\n",
    "print(python_lang.capitalize(), \"and\", cplusplus_lang.capitalize(), \"are both object-oriented programming languages.\")"
   ]
  },
  {
   "cell_type": "code",
   "execution_count": null,
   "id": "95cb0dd3-0af2-480f-af19-d8fc53fbbe5c",
   "metadata": {},
   "outputs": [],
   "source": []
  },
  {
   "cell_type": "code",
   "execution_count": null,
   "id": "b5a2637e-3db8-4bd5-9cda-c5361cc987e8",
   "metadata": {},
   "outputs": [],
   "source": []
  },
  {
   "cell_type": "code",
   "execution_count": null,
   "id": "048521ca-464d-4bf9-bad9-46afc69f3f84",
   "metadata": {},
   "outputs": [],
   "source": []
  }
 ],
 "metadata": {
  "kernelspec": {
   "display_name": "Python 3 (ipykernel)",
   "language": "python",
   "name": "python3"
  },
  "language_info": {
   "codemirror_mode": {
    "name": "ipython",
    "version": 3
   },
   "file_extension": ".py",
   "mimetype": "text/x-python",
   "name": "python",
   "nbconvert_exporter": "python",
   "pygments_lexer": "ipython3",
   "version": "3.10.12"
  }
 },
 "nbformat": 4,
 "nbformat_minor": 5
}
