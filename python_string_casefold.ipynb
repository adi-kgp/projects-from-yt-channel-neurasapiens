{
 "cells": [
  {
   "cell_type": "markdown",
   "id": "3e8d6d41-7aef-47a2-98d3-b897596bc21a",
   "metadata": {},
   "source": [
    "### Python String casefold()"
   ]
  },
  {
   "cell_type": "markdown",
   "id": "b9c3daeb-4349-48aa-8355-e7dcea9093aa",
   "metadata": {},
   "source": [
    "In Python, the casefold() method returns a version of the string suitable for caseless comparisons. "
   ]
  },
  {
   "cell_type": "markdown",
   "id": "c7265509-60d6-475b-87d0-ce07c9cf0e89",
   "metadata": {},
   "source": [
    "**Syntax**\n",
    "\n",
    "string_object.casefold()\n",
    "\n",
    "For the String casefold() method there are no parameters."
   ]
  },
  {
   "cell_type": "code",
   "execution_count": 1,
   "id": "8629f8d0-5b3e-4370-9cef-e2eeafb4c843",
   "metadata": {},
   "outputs": [
    {
     "data": {
      "text/plain": [
       "'The ZEN of Python'"
      ]
     },
     "execution_count": 1,
     "metadata": {},
     "output_type": "execute_result"
    }
   ],
   "source": [
    "first_python_string = \"The ZEN of Python\"\n",
    "first_python_string"
   ]
  },
  {
   "cell_type": "markdown",
   "id": "60ea57f7-f01a-401f-8f11-605c487dc387",
   "metadata": {},
   "source": [
    "#### Lowercase Conversion"
   ]
  },
  {
   "cell_type": "code",
   "execution_count": 2,
   "id": "e200b3d3-8568-4059-84fc-7b7e2118fff2",
   "metadata": {},
   "outputs": [
    {
     "name": "stdout",
     "output_type": "stream",
     "text": [
      "the zen of python\n"
     ]
    }
   ],
   "source": [
    "# Return a lowercase version of the string\n",
    "print(first_python_string.casefold()) # the zen of python"
   ]
  },
  {
   "cell_type": "markdown",
   "id": "a5835508-54c0-4401-b5c2-43240dcf270d",
   "metadata": {},
   "source": [
    "#### String Comparison"
   ]
  },
  {
   "cell_type": "code",
   "execution_count": 3,
   "id": "81382324-bae6-436f-af6b-ce6972a79ad8",
   "metadata": {},
   "outputs": [
    {
     "data": {
      "text/plain": [
       "'THE ZEN OF PYTHON'"
      ]
     },
     "execution_count": 3,
     "metadata": {},
     "output_type": "execute_result"
    }
   ],
   "source": [
    "second_python_string = \"THE ZEN OF PYTHON\"\n",
    "second_python_string"
   ]
  },
  {
   "cell_type": "code",
   "execution_count": 4,
   "id": "7c2a80ec-09fe-43ff-9c07-bf61857c37a5",
   "metadata": {},
   "outputs": [
    {
     "name": "stdout",
     "output_type": "stream",
     "text": [
      "False\n"
     ]
    }
   ],
   "source": [
    "# Check if the first python string is the same as the second Python string\n",
    "print(first_python_string == second_python_string) # Return False - different casing"
   ]
  },
  {
   "cell_type": "code",
   "execution_count": 5,
   "id": "9bf4b59c-b2b7-493a-b480-5a79697d7264",
   "metadata": {},
   "outputs": [
    {
     "name": "stdout",
     "output_type": "stream",
     "text": [
      "the zen of python\n",
      "the zen of python\n"
     ]
    }
   ],
   "source": [
    "# convert all to lowercase for both Strings\n",
    "lowercase_first = first_python_string.casefold()\n",
    "lowercase_second = second_python_string.casefold()\n",
    "\n",
    "print(f\"{lowercase_first}\\n{lowercase_second}\") # Confirm both are lowercase"
   ]
  },
  {
   "cell_type": "code",
   "execution_count": 6,
   "id": "d6a4c8b3-b620-4830-8384-dba6ac15b183",
   "metadata": {},
   "outputs": [
    {
     "name": "stdout",
     "output_type": "stream",
     "text": [
      "True\n"
     ]
    }
   ],
   "source": [
    "# Check if both lowercase strings are the same\n",
    "print(lowercase_first == lowercase_second) # Returns True"
   ]
  },
  {
   "cell_type": "code",
   "execution_count": 7,
   "id": "0dc397ed-0888-4af9-868b-2a6e8fe884ac",
   "metadata": {},
   "outputs": [
    {
     "name": "stdout",
     "output_type": "stream",
     "text": [
      "True\n"
     ]
    }
   ],
   "source": [
    "# Alternative\n",
    "print(first_python_string.casefold() == second_python_string.casefold()) # Returns True"
   ]
  },
  {
   "cell_type": "code",
   "execution_count": null,
   "id": "805357e3-e031-4e8e-9e9a-c818c220d4b8",
   "metadata": {},
   "outputs": [],
   "source": []
  }
 ],
 "metadata": {
  "kernelspec": {
   "display_name": "Python 3 (ipykernel)",
   "language": "python",
   "name": "python3"
  },
  "language_info": {
   "codemirror_mode": {
    "name": "ipython",
    "version": 3
   },
   "file_extension": ".py",
   "mimetype": "text/x-python",
   "name": "python",
   "nbconvert_exporter": "python",
   "pygments_lexer": "ipython3",
   "version": "3.10.12"
  }
 },
 "nbformat": 4,
 "nbformat_minor": 5
}
