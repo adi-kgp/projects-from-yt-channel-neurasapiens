{
 "cells": [
  {
   "cell_type": "markdown",
   "id": "7d3ebed2-1dff-44b4-8e69-693a6396fd71",
   "metadata": {},
   "source": [
    "### Python String expandtabs()\n",
    "\n",
    "In Python, the expandtabs() method returns a copy of the string where all the tab characters are expanded using spaces. If tabsize is not specified, a tab size of 8 characters is assumed. "
   ]
  },
  {
   "cell_type": "markdown",
   "id": "10ecef8a-91a3-45b9-ab53-8847777c7058",
   "metadata": {},
   "source": [
    "**Syntax**\n",
    "\n",
    "string_object.expandtabs(tabsize=8)\n",
    "\n",
    "For the string expandtabs() method there is one parameter **tabsize** where the default spacing is **8 characters**."
   ]
  },
  {
   "cell_type": "code",
   "execution_count": 1,
   "id": "82c5cd23-753a-4ee6-833e-e682659afb12",
   "metadata": {},
   "outputs": [
    {
     "data": {
      "text/plain": [
       "\"Programming isn't about what\\tyou know; it's about what you can figure out.\""
      ]
     },
     "execution_count": 1,
     "metadata": {},
     "output_type": "execute_result"
    }
   ],
   "source": [
    "prog_quote = \"Programming isn't about what\\tyou know; it's about what you can figure out.\"\n",
    "prog_quote"
   ]
  },
  {
   "cell_type": "markdown",
   "id": "defb3919-05ba-42ab-8497-f647e7f12e66",
   "metadata": {},
   "source": [
    "#### Default Spacing"
   ]
  },
  {
   "cell_type": "code",
   "execution_count": 2,
   "id": "8f5ddeba-545f-4195-9a0d-a3000536ce44",
   "metadata": {},
   "outputs": [
    {
     "name": "stdout",
     "output_type": "stream",
     "text": [
      "Programming isn't about what    you know; it's about what you can figure out.\n"
     ]
    }
   ],
   "source": [
    "# Without specifying tabsize\n",
    "print(prog_quote.expandtabs()) # 8 characters spacing"
   ]
  },
  {
   "cell_type": "markdown",
   "id": "8e4bc34f-5ab6-4641-831a-9b2460eeb8a8",
   "metadata": {},
   "source": [
    "#### TabSize Parameter"
   ]
  },
  {
   "cell_type": "code",
   "execution_count": 3,
   "id": "b08cf437-36e4-43d3-ace5-2a0f7cde5bd1",
   "metadata": {},
   "outputs": [
    {
     "name": "stdout",
     "output_type": "stream",
     "text": [
      "Learn Programming\n"
     ]
    }
   ],
   "source": [
    "learn_prog = \"L\\te\\ta\\tr\\tn P\\tr\\to\\tg\\tr\\ta\\tm\\tm\\ti\\tn\\tg\" # Learn programming\n",
    "print(learn_prog.expandtabs(0)) # No spacing - Returns Learn Programming"
   ]
  },
  {
   "cell_type": "code",
   "execution_count": 4,
   "id": "af49f44a-b1ef-4789-bd62-0882e237398a",
   "metadata": {},
   "outputs": [
    {
     "name": "stdout",
     "output_type": "stream",
     "text": [
      "L  e  a  r  n P   r  o  g  r  a  m  m  i  n  g\n"
     ]
    }
   ],
   "source": [
    "print(learn_prog.expandtabs(3)) # 3 spaces per \\t character"
   ]
  },
  {
   "cell_type": "code",
   "execution_count": 6,
   "id": "359539de-8f7f-4af2-a763-b0adc5ad53fe",
   "metadata": {},
   "outputs": [
    {
     "name": "stdout",
     "output_type": "stream",
     "text": [
      "L    e    a    r    n P  r    o    g    r    a    m    m    i    n    g\n"
     ]
    }
   ],
   "source": [
    "print(learn_prog.expandtabs(5)) # 5 spaces per \\t character"
   ]
  },
  {
   "cell_type": "code",
   "execution_count": 8,
   "id": "c74c1664-4451-4823-94bd-5ea9e5850d28",
   "metadata": {},
   "outputs": [
    {
     "name": "stdout",
     "output_type": "stream",
     "text": [
      "L      e      a      r      n P    r      o      g      r      a      m      m      i      n      g\n"
     ]
    }
   ],
   "source": [
    "print(learn_prog.expandtabs(7)) # 7 spaces per \\t character"
   ]
  },
  {
   "cell_type": "code",
   "execution_count": 9,
   "id": "70e4dfe7-b66e-4add-9761-2332569a10c6",
   "metadata": {},
   "outputs": [
    {
     "name": "stdout",
     "output_type": "stream",
     "text": [
      "L        e        a        r        n P      r        o        g        r        a        m        m        i        n        g\n"
     ]
    }
   ],
   "source": [
    "print(learn_prog.expandtabs(9)) # 9 spaces per \\t character"
   ]
  },
  {
   "cell_type": "code",
   "execution_count": null,
   "id": "34d0955b-edd3-49a2-b62a-7df5e7de8b2f",
   "metadata": {},
   "outputs": [],
   "source": []
  }
 ],
 "metadata": {
  "kernelspec": {
   "display_name": "Python 3 (ipykernel)",
   "language": "python",
   "name": "python3"
  },
  "language_info": {
   "codemirror_mode": {
    "name": "ipython",
    "version": 3
   },
   "file_extension": ".py",
   "mimetype": "text/x-python",
   "name": "python",
   "nbconvert_exporter": "python",
   "pygments_lexer": "ipython3",
   "version": "3.10.12"
  }
 },
 "nbformat": 4,
 "nbformat_minor": 5
}
