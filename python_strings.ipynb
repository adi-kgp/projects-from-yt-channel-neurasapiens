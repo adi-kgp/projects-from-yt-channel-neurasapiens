{
 "cells": [
  {
   "cell_type": "markdown",
   "id": "5b410c6b-e3f3-4ec7-a50e-a35f674fc30f",
   "metadata": {},
   "source": [
    "### Strings"
   ]
  },
  {
   "cell_type": "markdown",
   "id": "99848213-571a-43be-9e6b-761f0aae70cc",
   "metadata": {},
   "source": [
    "Strings are a derived data type to store a sequence of characters. Such as numbers, words, or special characters such as !, @ and #.\n",
    "\n",
    "Syntax for strings in Python is they are surrounded by either single quotation marks or double quotation marks. \n",
    "\n",
    "Alternatively triple single or double quotes can be used to create multiline strings. Can be used as documentation known as docstrings. "
   ]
  },
  {
   "cell_type": "code",
   "execution_count": 1,
   "id": "db589843-a072-4a93-83d7-aa6a943c2e9e",
   "metadata": {},
   "outputs": [
    {
     "name": "stdout",
     "output_type": "stream",
     "text": [
      "First Python String\n",
      "Second Python String\n",
      "\n",
      "Multi\n",
      "Line \n",
      "String\n",
      "\n"
     ]
    }
   ],
   "source": [
    "# Example String\n",
    "print(\"First Python String\") # Single quotes\n",
    "print(\"Second Python String\") # Double quotes\n",
    "print(\"\"\"\n",
    "Multi\n",
    "Line \n",
    "String\n",
    "\"\"\") # Triple Quotes"
   ]
  },
  {
   "cell_type": "markdown",
   "id": "baa2aa65-cb1a-4a5d-b2a4-790f04801855",
   "metadata": {},
   "source": [
    "#### Assign String to Variable"
   ]
  },
  {
   "cell_type": "code",
   "execution_count": 2,
   "id": "d8f3960b-9cd4-43b5-bf9c-101b64065b32",
   "metadata": {},
   "outputs": [],
   "source": [
    "hello_string = \"Hello\"\n",
    "world_string = \"World\""
   ]
  },
  {
   "cell_type": "markdown",
   "id": "bf09bd97-70bc-43f1-8ea1-21993b36483d",
   "metadata": {},
   "source": [
    "Strings in python are arrays of bytes that represent unicode characters. \n",
    "\n",
    "Unlike other programming languages (e.g. low level languages - C) Python does not have a character data type.\n",
    "\n",
    "A single character is a string with length of 1. "
   ]
  },
  {
   "cell_type": "code",
   "execution_count": 5,
   "id": "aaee6acb-f5ba-420b-9e21-3da238e10fde",
   "metadata": {},
   "outputs": [
    {
     "name": "stdout",
     "output_type": "stream",
     "text": [
      "1\n",
      "<class 'str'>\n"
     ]
    }
   ],
   "source": [
    "# String with 1 character \n",
    "one_char = \"A\"\n",
    "\n",
    "# Check length of string\n",
    "print(len(one_char))\n",
    "print(type(one_char))"
   ]
  },
  {
   "cell_type": "code",
   "execution_count": 7,
   "id": "bed93a0a-fd2b-4208-8f17-34025826ad53",
   "metadata": {},
   "outputs": [
    {
     "name": "stdout",
     "output_type": "stream",
     "text": [
      "HelloWorld\n",
      "Hello World\n"
     ]
    }
   ],
   "source": [
    "# Concatenate Strings \n",
    "print(hello_string + world_string)\n",
    "print(hello_string + \" \" + world_string)"
   ]
  },
  {
   "cell_type": "code",
   "execution_count": null,
   "id": "d37f019d-073a-4a01-a27b-e109f2e42765",
   "metadata": {},
   "outputs": [],
   "source": []
  },
  {
   "cell_type": "code",
   "execution_count": null,
   "id": "0676aa0d-912b-4200-ae89-2022ab8f924a",
   "metadata": {},
   "outputs": [],
   "source": []
  },
  {
   "cell_type": "code",
   "execution_count": null,
   "id": "4154a105-8eb3-45af-965f-4c455ef255c7",
   "metadata": {},
   "outputs": [],
   "source": []
  }
 ],
 "metadata": {
  "kernelspec": {
   "display_name": "Python 3 (ipykernel)",
   "language": "python",
   "name": "python3"
  },
  "language_info": {
   "codemirror_mode": {
    "name": "ipython",
    "version": 3
   },
   "file_extension": ".py",
   "mimetype": "text/x-python",
   "name": "python",
   "nbconvert_exporter": "python",
   "pygments_lexer": "ipython3",
   "version": "3.10.12"
  }
 },
 "nbformat": 4,
 "nbformat_minor": 5
}
