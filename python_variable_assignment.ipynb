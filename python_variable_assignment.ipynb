{
 "cells": [
  {
   "cell_type": "markdown",
   "id": "4f3740c4-178b-4587-957f-9822beedb3fc",
   "metadata": {},
   "source": [
    "### Python: Variable Assignment Introduction"
   ]
  },
  {
   "cell_type": "markdown",
   "id": "0e8c6239-07e5-4d58-9da7-eaefc75ccaac",
   "metadata": {},
   "source": [
    "Variable is a name attached to a particular object. In Python, variables do not need to be declared or defined in advance.\n",
    "\n",
    "The syntax to create a variable in Python is using the equal (=) sign to assign the variable a value and start using it. "
   ]
  },
  {
   "cell_type": "code",
   "execution_count": 1,
   "id": "8f3cb5cc-5640-4e58-80de-25d9bf328a23",
   "metadata": {},
   "outputs": [
    {
     "name": "stdout",
     "output_type": "stream",
     "text": [
      "Hi My name is Harry Potter\n"
     ]
    }
   ],
   "source": [
    "print(\"Hi My name is Harry Potter\")"
   ]
  },
  {
   "cell_type": "code",
   "execution_count": 2,
   "id": "f8b7a5e4-ddf2-40aa-b84d-50ba4e8a1118",
   "metadata": {},
   "outputs": [],
   "source": [
    "firstName = \"Harry\"\n",
    "lastName = \"Potter\""
   ]
  },
  {
   "cell_type": "markdown",
   "id": "56817d14-fe9d-4969-887f-ab4ac8bffc24",
   "metadata": {},
   "source": [
    "To display the value of a variable this can be done by calling the defined variable. "
   ]
  },
  {
   "cell_type": "code",
   "execution_count": 3,
   "id": "f326cfba-e67c-4f54-a1f4-c9bc23de9a0c",
   "metadata": {},
   "outputs": [
    {
     "data": {
      "text/plain": [
       "'Harry'"
      ]
     },
     "execution_count": 3,
     "metadata": {},
     "output_type": "execute_result"
    }
   ],
   "source": [
    "firstName"
   ]
  },
  {
   "cell_type": "code",
   "execution_count": 4,
   "id": "76269bef-311b-4d1e-b383-d2727b1847df",
   "metadata": {},
   "outputs": [
    {
     "name": "stdout",
     "output_type": "stream",
     "text": [
      "Harry\n"
     ]
    }
   ],
   "source": [
    "print(firstName)"
   ]
  },
  {
   "cell_type": "code",
   "execution_count": 5,
   "id": "bcc39dfb-35d2-4125-b67f-b56dd7dbccfa",
   "metadata": {},
   "outputs": [
    {
     "data": {
      "text/plain": [
       "'Potter'"
      ]
     },
     "execution_count": 5,
     "metadata": {},
     "output_type": "execute_result"
    }
   ],
   "source": [
    "lastName"
   ]
  },
  {
   "cell_type": "markdown",
   "id": "bebf5675-0c66-4bc8-85f3-290d0332c664",
   "metadata": {},
   "source": [
    "Using the defined variable for string interpolation."
   ]
  },
  {
   "cell_type": "code",
   "execution_count": 7,
   "id": "a218fbce-e84d-4437-8c2b-4f2f7a2a3802",
   "metadata": {},
   "outputs": [
    {
     "name": "stdout",
     "output_type": "stream",
     "text": [
      "Hi my name is Harry Potter\n"
     ]
    }
   ],
   "source": [
    "print(\"Hi my name is\", firstName, lastName)"
   ]
  },
  {
   "cell_type": "code",
   "execution_count": null,
   "id": "a2d9e732-ec21-4574-92b5-2a075727903b",
   "metadata": {},
   "outputs": [],
   "source": []
  },
  {
   "cell_type": "code",
   "execution_count": null,
   "id": "f895f81d-24a8-48da-a222-a87fc089192d",
   "metadata": {},
   "outputs": [],
   "source": []
  },
  {
   "cell_type": "code",
   "execution_count": null,
   "id": "f9c921f4-450f-46fd-b581-f42bab480261",
   "metadata": {},
   "outputs": [],
   "source": []
  },
  {
   "cell_type": "code",
   "execution_count": null,
   "id": "d2a1bff0-cb06-4d8f-bf2c-bb2481ded9a5",
   "metadata": {},
   "outputs": [],
   "source": []
  }
 ],
 "metadata": {
  "kernelspec": {
   "display_name": "Python 3 (ipykernel)",
   "language": "python",
   "name": "python3"
  },
  "language_info": {
   "codemirror_mode": {
    "name": "ipython",
    "version": 3
   },
   "file_extension": ".py",
   "mimetype": "text/x-python",
   "name": "python",
   "nbconvert_exporter": "python",
   "pygments_lexer": "ipython3",
   "version": "3.10.12"
  }
 },
 "nbformat": 4,
 "nbformat_minor": 5
}
