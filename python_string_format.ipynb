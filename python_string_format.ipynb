{
 "cells": [
  {
   "cell_type": "markdown",
   "id": "aec03310-4044-48a4-9d73-9ad3fe6bc47a",
   "metadata": {},
   "source": [
    "### Python String Format"
   ]
  },
  {
   "cell_type": "markdown",
   "id": "1b945138-bdf6-4ae5-9929-96fbb98eacf6",
   "metadata": {},
   "source": [
    "In Python, the format() method returns a formatted version of the specified String, using substitutions from args and kwargs. The substitutions are identified by braces ('{' and '}').\n",
    "\n",
    "**Syntax**\n",
    "\n",
    "string_object.format(*args, **kwargs)\n",
    "\n",
    "For the string method format() there needs to be at least one or more parameter values that should be formatted and inserted into the specified String."
   ]
  },
  {
   "cell_type": "code",
   "execution_count": 1,
   "id": "36d5e6e1-1c2e-4e9b-b778-574adcfefabc",
   "metadata": {},
   "outputs": [
    {
     "data": {
      "text/plain": [
       "'There are more than {num_of_packages} Python packages in the world.'"
      ]
     },
     "execution_count": 1,
     "metadata": {},
     "output_type": "execute_result"
    }
   ],
   "source": [
    "python_packages = \"There are more than {num_of_packages} Python packages in the world.\"\n",
    "python_packages"
   ]
  },
  {
   "cell_type": "markdown",
   "id": "c7f32721-1c69-40a8-bdf3-ee6e0f631a5d",
   "metadata": {},
   "source": [
    "#### Index Name"
   ]
  },
  {
   "cell_type": "code",
   "execution_count": 3,
   "id": "e6971bd5-5de5-41af-9f6f-e8dcd3f4f044",
   "metadata": {},
   "outputs": [
    {
     "name": "stdout",
     "output_type": "stream",
     "text": [
      "There are more than 200000 Python packages in the world.\n"
     ]
    }
   ],
   "source": [
    "print(python_packages.format(num_of_packages = 200000)) # Returns the original string with {num_of_packages} replaced with the value 200000"
   ]
  },
  {
   "cell_type": "markdown",
   "id": "225f4c8e-f3eb-4d81-b0f6-908c052e98e9",
   "metadata": {},
   "source": [
    "#### Numbered Index"
   ]
  },
  {
   "cell_type": "code",
   "execution_count": 7,
   "id": "471aa045-fa86-4ae1-9245-2197fe22c4e8",
   "metadata": {},
   "outputs": [
    {
     "name": "stdout",
     "output_type": "stream",
     "text": [
      "There is approximately 9000 computer programming languages 50 which are the most popular and in use today\n",
      "There is approximately 9000 computer programming languages 50 which are the most popular and in use today\n"
     ]
    }
   ],
   "source": [
    "prog_languages_fact = \"There is approximately {0} computer programming languages {1} which are the most popular and in use today\"\n",
    "print(prog_languages_fact.format(9000, 50)) # Replace each {index} with the value in the order specified\n",
    "\n",
    "# Mismatch in the number of values specified\n",
    "# print(prog_languages_fact.format(9000)) # Too few values\n",
    "\n",
    "print(prog_languages_fact.format(9000, 50, 3)) # Returns the String with the placeholders replaced and the extra value ignored"
   ]
  },
  {
   "cell_type": "markdown",
   "id": "04af8090-53f1-4bac-818e-e43380e69d11",
   "metadata": {},
   "source": [
    "#### Empty Brackets"
   ]
  },
  {
   "cell_type": "code",
   "execution_count": 9,
   "id": "5911fc39-8dd5-4111-8188-2718da39458e",
   "metadata": {},
   "outputs": [
    {
     "name": "stdout",
     "output_type": "stream",
     "text": [
      "There are more than 200000 Python packages in the world.\n"
     ]
    }
   ],
   "source": [
    "python_pack = \"There are more than {} {} packages in the {}.\" # Empty brackets can be used rather than named or numbered index\n",
    "print(python_pack.format(200000, \"Python\", \"world\")) # Inserted in the order specified for the method"
   ]
  },
  {
   "cell_type": "code",
   "execution_count": null,
   "id": "67528240-5711-4130-9cdd-095ff00acea9",
   "metadata": {},
   "outputs": [],
   "source": []
  }
 ],
 "metadata": {
  "kernelspec": {
   "display_name": "Python 3 (ipykernel)",
   "language": "python",
   "name": "python3"
  },
  "language_info": {
   "codemirror_mode": {
    "name": "ipython",
    "version": 3
   },
   "file_extension": ".py",
   "mimetype": "text/x-python",
   "name": "python",
   "nbconvert_exporter": "python",
   "pygments_lexer": "ipython3",
   "version": "3.10.12"
  }
 },
 "nbformat": 4,
 "nbformat_minor": 5
}
