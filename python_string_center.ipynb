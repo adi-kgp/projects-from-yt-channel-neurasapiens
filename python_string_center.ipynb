{
 "cells": [
  {
   "cell_type": "markdown",
   "id": "20a8d74d-3603-4a5f-bc31-3c580a0422fb",
   "metadata": {},
   "source": [
    "### Python String center()"
   ]
  },
  {
   "cell_type": "markdown",
   "id": "6b77f5a5-1bec-4464-ba40-892a3ad0233c",
   "metadata": {},
   "source": [
    "In Python, the center() method returns a string centered with the specified length width. Padding is done using the specified fill character the default used is a space."
   ]
  },
  {
   "cell_type": "markdown",
   "id": "f6d9964c-d313-43fe-a779-6f2825c4b350",
   "metadata": {},
   "source": [
    "**Syntax**\n",
    "\n",
    "string_object.center(width, fillchar)\n",
    "\n",
    "For the String method center() there are two parameters. One is the required parameter width which is the length of the string with padded characters. There is also an optional parameter fillchar which is the character to be used for padding. "
   ]
  },
  {
   "cell_type": "code",
   "execution_count": 1,
   "id": "cc7a5783-e275-4e74-a4a4-1ae238f07923",
   "metadata": {},
   "outputs": [
    {
     "data": {
      "text/plain": [
       "'Programming is the art of algorithm design and the craft of debugging errant code. - Ellen Ullman'"
      ]
     },
     "execution_count": 1,
     "metadata": {},
     "output_type": "execute_result"
    }
   ],
   "source": [
    "ellen_quote = \"Programming is the art of algorithm design and the craft of debugging errant code. - Ellen Ullman\"\n",
    "ellen_quote"
   ]
  },
  {
   "cell_type": "markdown",
   "id": "0eac0bce-3974-47d4-875f-d62150ea7e64",
   "metadata": {},
   "source": [
    "#### Width Parameter"
   ]
  },
  {
   "cell_type": "code",
   "execution_count": 4,
   "id": "8bc0c44e-14e6-48e3-99ea-c8380fbfa1a6",
   "metadata": {},
   "outputs": [
    {
     "name": "stdout",
     "output_type": "stream",
     "text": [
      "Number of characters: 97\n",
      "String centered with default padding       Programming is the art of algorithm design and the craft of debugging errant code. - Ellen Ullman      \n"
     ]
    }
   ],
   "source": [
    "# First check the number of characters in the string\n",
    "num_of_chars = len(ellen_quote)\n",
    "print(\"Number of characters:\", num_of_chars) # Characters String \n",
    "\n",
    "# Padded on the left and right 6 spaces on each side\n",
    "padded_string = ellen_quote.center(num_of_chars+12)\n",
    "print(\"String centered with default padding\", padded_string) # Space is the default padding used - 6 white spaces on each side of the string"
   ]
  },
  {
   "cell_type": "markdown",
   "id": "43a20c11-475a-4768-a5da-6877d9ecf374",
   "metadata": {},
   "source": [
    "#### Specify Padding Character"
   ]
  },
  {
   "cell_type": "code",
   "execution_count": 6,
   "id": "4f272e44-f31f-4c61-99dd-43ea48633b5a",
   "metadata": {},
   "outputs": [
    {
     "name": "stdout",
     "output_type": "stream",
     "text": [
      "@@@@@@@@@@Programming is the art of algorithm design and the craft of debugging errant code. - Ellen Ullman@@@@@@@@@@\n"
     ]
    }
   ],
   "source": [
    "# Rather than using white space - replace the padding with the @ symbol\n",
    "print(ellen_quote.center(num_of_chars + 20, '@')) # Padded with 10 @ symbols on each side and text is centered in the middle"
   ]
  },
  {
   "cell_type": "code",
   "execution_count": 8,
   "id": "ea982793-ed56-4db7-a1ca-b30c47576a93",
   "metadata": {},
   "outputs": [
    {
     "name": "stdout",
     "output_type": "stream",
     "text": [
      "5555555555Programming is the art of algorithm design and the craft of debugging errant code. - Ellen Ullman5555555555\n"
     ]
    }
   ],
   "source": [
    "# Pad with number\n",
    "numbered_padding = ellen_quote.center(num_of_chars + 20, \"5\")\n",
    "print(numbered_padding) # Padded with the number 5 with 10 fives on each side"
   ]
  },
  {
   "cell_type": "code",
   "execution_count": null,
   "id": "52554b5d-6943-4c9c-917f-c3e9f03a6c13",
   "metadata": {},
   "outputs": [],
   "source": []
  }
 ],
 "metadata": {
  "kernelspec": {
   "display_name": "Python 3 (ipykernel)",
   "language": "python",
   "name": "python3"
  },
  "language_info": {
   "codemirror_mode": {
    "name": "ipython",
    "version": 3
   },
   "file_extension": ".py",
   "mimetype": "text/x-python",
   "name": "python",
   "nbconvert_exporter": "python",
   "pygments_lexer": "ipython3",
   "version": "3.10.12"
  }
 },
 "nbformat": 4,
 "nbformat_minor": 5
}
