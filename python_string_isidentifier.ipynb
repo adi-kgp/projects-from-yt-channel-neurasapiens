{
 "cells": [
  {
   "cell_type": "markdown",
   "id": "1342fe92-59e3-4cc7-b378-3a8a65aa4b43",
   "metadata": {},
   "source": [
    "### Python String isidentifier()"
   ]
  },
  {
   "cell_type": "markdown",
   "id": "42070eef-e666-42a8-bbd4-09c10650388d",
   "metadata": {},
   "source": [
    "In Python, the isidentifier() method returns True if the specified string is a valid identifier according to the language definition. Otherwise, it will return False. "
   ]
  },
  {
   "cell_type": "markdown",
   "id": "58cdfac2-d2ab-4bdd-bc68-9da16cab113b",
   "metadata": {},
   "source": [
    "**Syntax**\n",
    "\n",
    "string_object.isidentifier()\n",
    "\n",
    "For the string method isidentifier() there are no parameters. "
   ]
  },
  {
   "cell_type": "code",
   "execution_count": 1,
   "id": "8b20f992-0a95-4130-aae7-257d1f526cc0",
   "metadata": {},
   "outputs": [
    {
     "data": {
      "text/plain": [
       "'Before software can be resuable it first has to be usable'"
      ]
     },
     "execution_count": 1,
     "metadata": {},
     "output_type": "execute_result"
    }
   ],
   "source": [
    "ralph_quote = \"Before software can be resuable it first has to be usable\" # Ralph Johnson quote\n",
    "ralph_quote"
   ]
  },
  {
   "cell_type": "markdown",
   "id": "1d16b388-3259-4e31-9325-201c3676c6a6",
   "metadata": {},
   "source": [
    "#### Identifier Check"
   ]
  },
  {
   "cell_type": "code",
   "execution_count": 10,
   "id": "2caf5606-e9d0-40cf-be70-2cd42fd8d614",
   "metadata": {},
   "outputs": [
    {
     "name": "stdout",
     "output_type": "stream",
     "text": [
      "Is the quote an identifier? [True/False] False\n",
      "Is the alphanumeric '3ngine' string an identifier? [True/False] False\n",
      " C++\n",
      "Is the string ' C++' with a leading white space an identifier? [True/False] False\n",
      "HTML \n",
      "Is the string ' HTML' with a trailing white space an identifier? [True/False] False\n"
     ]
    }
   ],
   "source": [
    "check_quote = ralph_quote.isidentifier()\n",
    "print(\"Is the quote an identifier? [True/False]\", check_quote) \n",
    "\n",
    "# Alphanumeric string\n",
    "alpha_eng = \"3ngine\" # Start with the number 3\n",
    "print(\"Is the alphanumeric \\'3ngine' string an identifier? [True/False]\", alpha_eng.isidentifier()) # Returns False - Because the string starts with a number \n",
    "\n",
    "# Leading white space\n",
    "lead_space = \" C++\" # programming language\n",
    "print(lead_space)\n",
    "print(\"Is the string \\' C++\\' with a leading white space an identifier? [True/False]\", lead_space.isidentifier()) # Return False - Due to leading white space \n",
    "\n",
    "# Trailing white space\n",
    "trailing_space = \"HTML \" # programming language\n",
    "print(trailing_space)\n",
    "print(\"Is the string \\' HTML\\' with a trailing white space an identifier? [True/False]\", lead_space.isidentifier()) # Return False - Due to trailing white space "
   ]
  },
  {
   "cell_type": "code",
   "execution_count": 11,
   "id": "8f118a94-1e47-498c-98b5-1f45d0487c37",
   "metadata": {},
   "outputs": [
    {
     "name": "stdout",
     "output_type": "stream",
     "text": [
      "Is an empty string an identifier? [True/False] False\n"
     ]
    }
   ],
   "source": [
    "# Empty String\n",
    "empty_str = \"\" # No characters\n",
    "print(\"Is an empty string an identifier? [True/False]\", empty_str.isidentifier()) # return False, there needs to be a minimum of 1 character"
   ]
  },
  {
   "cell_type": "markdown",
   "id": "d8ec52ed-0b7b-4c78-b65e-31ea2c232954",
   "metadata": {},
   "source": [
    "#### Valid Identifier"
   ]
  },
  {
   "cell_type": "code",
   "execution_count": 12,
   "id": "971671a3-c805-4acf-9245-d03079d47281",
   "metadata": {},
   "outputs": [
    {
     "name": "stdout",
     "output_type": "stream",
     "text": [
      "Is the letter 'c' an identifier? [True/False] True\n"
     ]
    }
   ],
   "source": [
    "# Single letter\n",
    "letter_c = \"c\"\n",
    "print(\"Is the letter \\'c\\' an identifier? [True/False]\", letter_c.isidentifier()) # Returns True - valid identifier as a single letter"
   ]
  },
  {
   "cell_type": "code",
   "execution_count": 14,
   "id": "b24c0f55-e908-420b-a25f-2919b98109e5",
   "metadata": {},
   "outputs": [
    {
     "name": "stdout",
     "output_type": "stream",
     "text": [
      "Is the string 'C53' an identifier? [True/False] True\n"
     ]
    }
   ],
   "source": [
    "# Letter with a trailing number\n",
    "letter_num = \"C53\"\n",
    "print(\"Is the string \\'C53\\' an identifier? [True/False]\", letter_num.isidentifier()) # Returns True, valid identifier with trailing number"
   ]
  },
  {
   "cell_type": "code",
   "execution_count": 17,
   "id": "1f5bbb8e-d031-44b3-a243-0e4389bf8b7f",
   "metadata": {},
   "outputs": [
    {
     "name": "stdout",
     "output_type": "stream",
     "text": [
      "Java5script\n",
      "Is the alphanumeric 'Java5script' string an identifier? [True/False] True\n"
     ]
    }
   ],
   "source": [
    "# Alphanumeric String without a leading number\n",
    "alphan_js = \"Java5script\" # S is the number 5\n",
    "print(alphan_js)\n",
    "print(\"Is the alphanumeric \\'Java5script\\' string an identifier? [True/False]\", alphan_js.isidentifier()) # Returns True - valid identifier as a alphan str"
   ]
  },
  {
   "cell_type": "code",
   "execution_count": null,
   "id": "e3c7b447-4703-4675-9b62-7582015c947e",
   "metadata": {},
   "outputs": [],
   "source": []
  },
  {
   "cell_type": "code",
   "execution_count": null,
   "id": "854a7d99-be16-4b65-91fd-435c7ffa07bf",
   "metadata": {},
   "outputs": [],
   "source": []
  },
  {
   "cell_type": "code",
   "execution_count": null,
   "id": "57790896-508a-4088-9d51-322c958b4e1b",
   "metadata": {},
   "outputs": [],
   "source": []
  }
 ],
 "metadata": {
  "kernelspec": {
   "display_name": "Python 3 (ipykernel)",
   "language": "python",
   "name": "python3"
  },
  "language_info": {
   "codemirror_mode": {
    "name": "ipython",
    "version": 3
   },
   "file_extension": ".py",
   "mimetype": "text/x-python",
   "name": "python",
   "nbconvert_exporter": "python",
   "pygments_lexer": "ipython3",
   "version": "3.10.12"
  }
 },
 "nbformat": 4,
 "nbformat_minor": 5
}
