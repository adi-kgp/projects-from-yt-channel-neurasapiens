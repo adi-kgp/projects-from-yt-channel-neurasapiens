{
 "cells": [
  {
   "cell_type": "markdown",
   "metadata": {
    "id": "QVQNZYFCJooS"
   },
   "source": [
    "### Python String find()"
   ]
  },
  {
   "cell_type": "markdown",
   "metadata": {
    "id": "1ITLdipJJ3c0"
   },
   "source": [
    "In python, the find() method returns the lowest index in the specified String where the substring is found such that substring is contained within the String[start:end]. There are optional parameters start and end which are interpreted as a slice notation. If the specified value is not found the method will return -1.\n",
    "\n",
    "**Syntax**\n",
    "\n",
    "string_object.find(sub[, start[,end]])\n",
    "\n",
    "For the string method find() there are three parameters. One required parameter sub which is the substring to be found and two optional parameters start and end for the index positions to be searched for in the String."
   ]
  },
  {
   "cell_type": "code",
   "execution_count": 1,
   "metadata": {
    "colab": {
     "base_uri": "https://localhost:8080/",
     "height": 35
    },
    "id": "rvlpdgWHKvvO",
    "outputId": "85feb977-ee40-424c-fbdc-2b80df9f1cd1"
   },
   "outputs": [
    {
     "data": {
      "text/plain": [
       "'Python was designed for readability and has some similarities to the English language.'"
      ]
     },
     "execution_count": 1,
     "metadata": {},
     "output_type": "execute_result"
    }
   ],
   "source": [
    "python_design = \"Python was designed for readability and has some similarities to the English language.\"\n",
    "python_design"
   ]
  },
  {
   "cell_type": "markdown",
   "metadata": {
    "id": "O1SZYlNLK79P"
   },
   "source": [
    "#### Find Substring"
   ]
  },
  {
   "cell_type": "code",
   "execution_count": 2,
   "metadata": {
    "colab": {
     "base_uri": "https://localhost:8080/"
    },
    "id": "CmN9u8gkLS4_",
    "outputId": "ae94d2ac-3977-4e9b-fb1d-47e286e174fb"
   },
   "outputs": [
    {
     "name": "stdout",
     "output_type": "stream",
     "text": [
      "The lowest index for the word 'design' in the string is: 11\n"
     ]
    }
   ],
   "source": [
    "# Check for the word design\n",
    "find_design_idx = python_design.find(\"design\")\n",
    "print(\"The lowest index for the word \\'design\\' in the string is:\", find_design_idx) # the word design starts at index position 11 from a count of 0"
   ]
  },
  {
   "cell_type": "code",
   "execution_count": 3,
   "metadata": {
    "colab": {
     "base_uri": "https://localhost:8080/"
    },
    "id": "0DnkKqWBLnzo",
    "outputId": "d874aac3-7a31-4695-8f50-1eb5fa9f254e"
   },
   "outputs": [
    {
     "name": "stdout",
     "output_type": "stream",
     "text": [
      "The lowest index for the word 'Java' in the string is:  -1\n"
     ]
    }
   ],
   "source": [
    "# Check lowest index for the word Java\n",
    "java_idx = python_design.find(\"Java\")\n",
    "print(\"The lowest index for the word \\'Java\\' in the string is: \", java_idx) # As the word 'Java' is not in the string the method returns -1 as output"
   ]
  },
  {
   "cell_type": "code",
   "execution_count": 4,
   "metadata": {
    "colab": {
     "base_uri": "https://localhost:8080/"
    },
    "id": "9fLyqLrzMdzF",
    "outputId": "4bb6325e-4573-4be0-e646-17a66e6f9b52"
   },
   "outputs": [
    {
     "name": "stdout",
     "output_type": "stream",
     "text": [
      "The lowest index for the full stop '.' in the string is: 85\n",
      "85\n"
     ]
    }
   ],
   "source": [
    "# Check the lowest index for the full stop\n",
    "full_stop_idx = python_design.find(\".\")\n",
    "print(\"The lowest index for the full stop \\'.\\' in the string is:\", full_stop_idx) # The full stop is at index position 85 from a count of 0\n",
    "print(len(python_design)-1) # Alternative as there is only 1 full stop"
   ]
  },
  {
   "cell_type": "markdown",
   "metadata": {
    "id": "am7KO7DdM1BT"
   },
   "source": [
    "#### Start Parameter"
   ]
  },
  {
   "cell_type": "code",
   "execution_count": 7,
   "metadata": {
    "id": "FtilclSsNNpq"
   },
   "outputs": [
    {
     "name": "stdout",
     "output_type": "stream",
     "text": [
      "The lowest index for the word 'Python' in the String is:  -1\n",
      "The lowest index for the word 'readability' in the String is:  24\n"
     ]
    }
   ],
   "source": [
    "# Specify starting parameter for the String to be searched for the word python\n",
    "python_idx = python_design.find(\"Python\", 7) # Exclude Python - String to be searched starts from was...\n",
    "print(\"The lowest index for the word \\'Python\\' in the String is: \", python_idx) # Return -1 as starting from 7 excludes the word Python\n",
    "\n",
    "# Search for readability\n",
    "readability_idx = python_design.find(\"readability\", 7)\n",
    "print(\"The lowest index for the word \\'readability\\' in the String is: \", readability_idx) # Return 24 - Even with start parameter the count is from full string"
   ]
  },
  {
   "cell_type": "markdown",
   "metadata": {},
   "source": [
    "#### All Parameters"
   ]
  },
  {
   "cell_type": "code",
   "execution_count": 8,
   "metadata": {},
   "outputs": [
    {
     "name": "stdout",
     "output_type": "stream",
     "text": [
      "The lowest index for the word 'English' in the String is: 69\n"
     ]
    }
   ],
   "source": [
    "# Specify Sub, Start and End paramters to search for the word \\'English\\'\n",
    "english_idx = python_design.find(\"English\", 49, 85)\n",
    "print(\"The lowest index for the word \\'English\\' in the String is:\", english_idx)"
   ]
  },
  {
   "cell_type": "code",
   "execution_count": 9,
   "metadata": {},
   "outputs": [
    {
     "name": "stdout",
     "output_type": "stream",
     "text": [
      "The lowest index for the uppercase word 'Similarities' in the string is: -1\n",
      "similarities to the English language\n",
      "The lowest index for the word 'English' in the string is:  20\n"
     ]
    }
   ],
   "source": [
    "# Case Sensitive - Search for uppercase similarities\n",
    "upper_sim_idx = python_design.find(\"Similarities\", 49, 85)\n",
    "print(\"The lowest index for the uppercase word \\'Similarities\\' in the string is:\", upper_sim_idx) # Return -1 as it is in uppercase\n",
    "\n",
    "# Different with creating a substring with slicing \n",
    "similarities_sub = python_design[49:85]\n",
    "print(similarities_sub)\n",
    "print(\"The lowest index for the word \\'English\\' in the string is: \", similarities_sub.find(\"English\")) # Returns 20 - AS the new String contains less characters"
   ]
  },
  {
   "cell_type": "code",
   "execution_count": null,
   "metadata": {},
   "outputs": [],
   "source": []
  }
 ],
 "metadata": {
  "colab": {
   "provenance": []
  },
  "kernelspec": {
   "display_name": "Python 3 (ipykernel)",
   "language": "python",
   "name": "python3"
  },
  "language_info": {
   "codemirror_mode": {
    "name": "ipython",
    "version": 3
   },
   "file_extension": ".py",
   "mimetype": "text/x-python",
   "name": "python",
   "nbconvert_exporter": "python",
   "pygments_lexer": "ipython3",
   "version": "3.10.12"
  }
 },
 "nbformat": 4,
 "nbformat_minor": 4
}
