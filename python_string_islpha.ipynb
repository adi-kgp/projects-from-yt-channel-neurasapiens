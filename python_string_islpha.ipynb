{
 "cells": [
  {
   "cell_type": "markdown",
   "id": "a2b5d927-6d3e-4dfb-8e46-595192d65b6f",
   "metadata": {},
   "source": [
    "### Python String isalpha()"
   ]
  },
  {
   "cell_type": "markdown",
   "id": "1b2489e5-9222-4b12-9697-9a3621a1efea",
   "metadata": {},
   "source": [
    "In Python, the isalpha() method returns True if all characters in the specified string are alphabetical characters and there is at least one character in string. Otherwise, it will return False."
   ]
  },
  {
   "cell_type": "markdown",
   "id": "29176e67-6702-4701-961d-11289ce6798a",
   "metadata": {},
   "source": [
    "**Syntax**\n",
    "\n",
    "string_object.islpha()\n",
    "\n",
    "For the String method isalpha() there are no parameters. "
   ]
  },
  {
   "cell_type": "code",
   "execution_count": 1,
   "id": "efb02c38-9045-4dda-8e83-1041452b66eb",
   "metadata": {},
   "outputs": [
    {
     "name": "stdout",
     "output_type": "stream",
     "text": [
      "Python is a high-level programming language that has user-friendly syntax.\n"
     ]
    }
   ],
   "source": [
    "high_level = \"Python is a high-level programming language that has user-friendly syntax.\"\n",
    "print(high_level)"
   ]
  },
  {
   "cell_type": "markdown",
   "id": "2a2ea19f-0db1-4c8d-afa1-6e30d71d2ab2",
   "metadata": {},
   "source": [
    "#### Alphabetical Characters Check"
   ]
  },
  {
   "cell_type": "code",
   "execution_count": 2,
   "id": "873d3b6c-2ef5-4b55-8927-26da9c4dd42a",
   "metadata": {},
   "outputs": [
    {
     "name": "stdout",
     "output_type": "stream",
     "text": [
      "False\n",
      "False\n"
     ]
    }
   ],
   "source": [
    "print(high_level.isalpha()) # Returns False - Due to whitespace and punctuation\n",
    "\n",
    "# No characters\n",
    "empty_string = \"\"\n",
    "print(empty_string.isalpha()) # Return False - Need at least one character"
   ]
  },
  {
   "cell_type": "code",
   "execution_count": 4,
   "id": "b675ef3f-60ab-4c57-93f3-d9ef4dde6d4e",
   "metadata": {},
   "outputs": [
    {
     "name": "stdout",
     "output_type": "stream",
     "text": [
      "True\n"
     ]
    }
   ],
   "source": [
    "# Single character\n",
    "letter_a = \"a\"\n",
    "print(letter_a.isalpha()) # Return True"
   ]
  },
  {
   "cell_type": "markdown",
   "id": "3e867129-b098-4bb2-909b-9dd3b824532a",
   "metadata": {},
   "source": [
    "#### Whitespace"
   ]
  },
  {
   "cell_type": "code",
   "execution_count": 7,
   "id": "36f884ce-07fe-4bcd-9033-bc5041047c95",
   "metadata": {},
   "outputs": [
    {
     "name": "stdout",
     "output_type": "stream",
     "text": [
      "False\n"
     ]
    }
   ],
   "source": [
    "# Trailing whitespace \n",
    "whitespace_string = \"Python \"\n",
    "print(whitespace_string.isalpha()) # Return False - Due to the trailing whitespace in the string"
   ]
  },
  {
   "cell_type": "markdown",
   "id": "0ccb0786-1a2d-4516-9951-ca563dcbb790",
   "metadata": {},
   "source": [
    "#### Numbers"
   ]
  },
  {
   "cell_type": "code",
   "execution_count": 8,
   "id": "ef97e56f-99e0-4609-819a-d4ad286cbc55",
   "metadata": {},
   "outputs": [
    {
     "name": "stdout",
     "output_type": "stream",
     "text": [
      "False\n"
     ]
    }
   ],
   "source": [
    "numbered_string = \"1 Python and 2 CSS\"\n",
    "print(numbered_string.isalpha()) # Return False - Because of the integers 1 and 2"
   ]
  },
  {
   "cell_type": "markdown",
   "id": "1661d971-ab0a-4583-b777-49fd667171b5",
   "metadata": {},
   "source": [
    "#### Punctuation and Special Characters"
   ]
  },
  {
   "cell_type": "code",
   "execution_count": 10,
   "id": "a0aa9a36-bfa0-4025-96e5-012233722cab",
   "metadata": {},
   "outputs": [
    {
     "name": "stdout",
     "output_type": "stream",
     "text": [
      "False\n",
      "False\n"
     ]
    }
   ],
   "source": [
    "# Punctuation\n",
    "excited_string = \"Python!\"\n",
    "print(excited_string.isalpha()) # Return False - due to the exclamation mark\n",
    "\n",
    "# Special character\n",
    "at_symbol_string = \"@Python\"\n",
    "print(at_symbol_string.isalpha()) # Return False - due to @ symbol"
   ]
  },
  {
   "cell_type": "markdown",
   "id": "5c8ec8a8-303b-4d2a-8d9c-6fa6e0713fff",
   "metadata": {},
   "source": [
    "#### Valid Alphabetical Strings"
   ]
  },
  {
   "cell_type": "code",
   "execution_count": 11,
   "id": "73b68924-df4f-4f65-921d-dbe92018d728",
   "metadata": {},
   "outputs": [
    {
     "name": "stdout",
     "output_type": "stream",
     "text": [
      "True\n"
     ]
    }
   ],
   "source": [
    "valid_string = \"Hello\"\n",
    "print(valid_string.isalpha()) # Return True "
   ]
  },
  {
   "cell_type": "code",
   "execution_count": null,
   "id": "db0d7808-b4b3-413c-a7cf-166733ca0081",
   "metadata": {},
   "outputs": [],
   "source": []
  }
 ],
 "metadata": {
  "kernelspec": {
   "display_name": "Python 3 (ipykernel)",
   "language": "python",
   "name": "python3"
  },
  "language_info": {
   "codemirror_mode": {
    "name": "ipython",
    "version": 3
   },
   "file_extension": ".py",
   "mimetype": "text/x-python",
   "name": "python",
   "nbconvert_exporter": "python",
   "pygments_lexer": "ipython3",
   "version": "3.10.12"
  }
 },
 "nbformat": 4,
 "nbformat_minor": 5
}
