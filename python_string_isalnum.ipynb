{
 "cells": [
  {
   "cell_type": "markdown",
   "id": "f16d4553-ef44-45ae-8b75-6aa89e3ba7d6",
   "metadata": {},
   "source": [
    "### Python String isalnum()"
   ]
  },
  {
   "cell_type": "markdown",
   "id": "073e5237-1199-48f1-8dce-e8f26c414b8b",
   "metadata": {},
   "source": [
    "In Python, the isalnum() method returns True if all characters in the string are alphanumeric and there is at least one character, otherwise it will be False."
   ]
  },
  {
   "cell_type": "markdown",
   "id": "eb9278a7-2703-448e-9814-743628724582",
   "metadata": {},
   "source": [
    "**Syntax**\n",
    "\n",
    "string_object.isalnum()\n",
    "\n",
    "For the string isalnum() method there are no parameters."
   ]
  },
  {
   "cell_type": "code",
   "execution_count": 1,
   "id": "4a9fb38a-1f4e-46d2-819b-10a5a84b9557",
   "metadata": {},
   "outputs": [
    {
     "data": {
      "text/plain": [
       "\"Python's design philosophy emphasizes code readability with its use of significant indentation.\""
      ]
     },
     "execution_count": 1,
     "metadata": {},
     "output_type": "execute_result"
    }
   ],
   "source": [
    "python_design = \"Python's design philosophy emphasizes code readability with its use of significant indentation.\"\n",
    "python_design"
   ]
  },
  {
   "cell_type": "markdown",
   "id": "91964b63-66dc-463e-b9b3-50eb4cec7972",
   "metadata": {},
   "source": [
    "#### Check if String is Alphanumeric"
   ]
  },
  {
   "cell_type": "code",
   "execution_count": 2,
   "id": "c84095d5-286b-4ad9-b548-5b9d379e5e62",
   "metadata": {},
   "outputs": [
    {
     "name": "stdout",
     "output_type": "stream",
     "text": [
      "False\n"
     ]
    }
   ],
   "source": [
    "print(python_design.isalnum())  # Return False - Alphanumeric "
   ]
  },
  {
   "cell_type": "code",
   "execution_count": 3,
   "id": "ec6ef36e-dd83-497c-84dc-233020672d30",
   "metadata": {},
   "outputs": [
    {
     "name": "stdout",
     "output_type": "stream",
     "text": [
      "False\n"
     ]
    }
   ],
   "source": [
    "print(\"1.String\".isalnum()) # Return False - Because of the full stop"
   ]
  },
  {
   "cell_type": "code",
   "execution_count": 4,
   "id": "5b248cbf-15ca-4822-b8f9-e3da705818c0",
   "metadata": {},
   "outputs": [
    {
     "name": "stdout",
     "output_type": "stream",
     "text": [
      "False\n"
     ]
    }
   ],
   "source": [
    "print(\"1 String\".isalnum()) # Return False - Because of whitespace"
   ]
  },
  {
   "cell_type": "code",
   "execution_count": 6,
   "id": "fb7fb26b-d312-48eb-948f-23f9cc525697",
   "metadata": {},
   "outputs": [
    {
     "name": "stdout",
     "output_type": "stream",
     "text": [
      "False\n"
     ]
    }
   ],
   "source": [
    "new_python_string = \"1. Python's design philosophy emphasizes code readability with its use of significant indentation.\"\n",
    "print(new_python_string.isalnum()) # 1. Punctuation 2. whitespace"
   ]
  },
  {
   "cell_type": "code",
   "execution_count": 7,
   "id": "4380f116-bedb-43a6-bbcc-d03ad5bb01fb",
   "metadata": {},
   "outputs": [
    {
     "name": "stdout",
     "output_type": "stream",
     "text": [
      "True\n"
     ]
    }
   ],
   "source": [
    "print(\"1String\".isalnum()) # Return True"
   ]
  },
  {
   "cell_type": "code",
   "execution_count": null,
   "id": "74e9302b-33d8-4e43-92d3-80ddebc30231",
   "metadata": {},
   "outputs": [],
   "source": []
  }
 ],
 "metadata": {
  "kernelspec": {
   "display_name": "Python 3 (ipykernel)",
   "language": "python",
   "name": "python3"
  },
  "language_info": {
   "codemirror_mode": {
    "name": "ipython",
    "version": 3
   },
   "file_extension": ".py",
   "mimetype": "text/x-python",
   "name": "python",
   "nbconvert_exporter": "python",
   "pygments_lexer": "ipython3",
   "version": "3.10.12"
  }
 },
 "nbformat": 4,
 "nbformat_minor": 5
}
