{
 "cells": [
  {
   "cell_type": "markdown",
   "id": "20f1b8ab-f1c2-4c78-98c0-bee2359fc6bb",
   "metadata": {},
   "source": [
    "### Python String index()"
   ]
  },
  {
   "cell_type": "markdown",
   "id": "bea27293-653a-4179-a576-f6f40731be0d",
   "metadata": {},
   "source": [
    "In Python, the index() method returns the lowest index in the specified String where the substring to be searched for is found, such that the substring is contained within the specified String[start:end]. There are optional parameters start and end which are interpreted as slice notation.\n",
    "\n",
    "The method will raise a ValueError when the specified substring is not found. \n",
    "\n",
    "**Syntax**\n",
    "\n",
    "string_object.index(sub[, start[, end]])\n",
    "\n",
    "For the String method index() there are three parameters. One required parameter sub which is the substring to be searched for in the specified String. There are also two optional parameters start and end index which is the search space for the specified String.  "
   ]
  },
  {
   "cell_type": "code",
   "execution_count": 1,
   "id": "45704501-7cc1-4412-9d8a-250e869c9905",
   "metadata": {},
   "outputs": [
    {
     "data": {
      "text/plain": [
       "'The goal is to turn data into information and information into insight'"
      ]
     },
     "execution_count": 1,
     "metadata": {},
     "output_type": "execute_result"
    }
   ],
   "source": [
    "data_quote = \"The goal is to turn data into information and information into insight\"\n",
    "data_quote"
   ]
  },
  {
   "cell_type": "markdown",
   "id": "ef8768c7-adda-4974-86ea-744ae32a5e80",
   "metadata": {},
   "source": [
    "#### Substring Index"
   ]
  },
  {
   "cell_type": "code",
   "execution_count": 2,
   "id": "d5336822-bccd-4084-a449-8c5abbd8852b",
   "metadata": {},
   "outputs": [
    {
     "name": "stdout",
     "output_type": "stream",
     "text": [
      "Starting index: 0\n",
      "Starting Index: 30\n"
     ]
    }
   ],
   "source": [
    "# Search for the word \\'The\\'\n",
    "print(\"Starting index:\", data_quote.index(\"The\")) # Returns 0 - Starting index for the first occurrence of the string from a count of 0 for the full String\n",
    "\n",
    "print(\"Starting Index:\", data_quote.index(\"information\")) # Returns 30 - Based on the first occurrence of the word information"
   ]
  },
  {
   "cell_type": "markdown",
   "id": "9ba539f6-9866-4cc7-909b-dc7bc70482a0",
   "metadata": {},
   "source": [
    "#### Search for Nonexistent Substring"
   ]
  },
  {
   "cell_type": "code",
   "execution_count": 4,
   "id": "b5785638-9fab-441d-81a7-0aec9e3074b3",
   "metadata": {},
   "outputs": [
    {
     "ename": "ValueError",
     "evalue": "substring not found",
     "output_type": "error",
     "traceback": [
      "\u001b[0;31m---------------------------------------------------------------------------\u001b[0m",
      "\u001b[0;31mValueError\u001b[0m                                Traceback (most recent call last)",
      "Cell \u001b[0;32mIn[4], line 2\u001b[0m\n\u001b[1;32m      1\u001b[0m \u001b[38;5;66;03m# Search for Java\u001b[39;00m\n\u001b[0;32m----> 2\u001b[0m java_idx \u001b[38;5;241m=\u001b[39m \u001b[43mdata_quote\u001b[49m\u001b[38;5;241;43m.\u001b[39;49m\u001b[43mindex\u001b[49m\u001b[43m(\u001b[49m\u001b[38;5;124;43m\"\u001b[39;49m\u001b[38;5;124;43mJava\u001b[39;49m\u001b[38;5;124;43m\"\u001b[39;49m\u001b[43m)\u001b[49m\n\u001b[1;32m      3\u001b[0m \u001b[38;5;28mprint\u001b[39m(\u001b[38;5;124m\"\u001b[39m\u001b[38;5;124mStarting indx:\u001b[39m\u001b[38;5;124m\"\u001b[39m, java_idx) \u001b[38;5;66;03m# Raises ValueError as the word \"Java\" is not in the String for data_quote variable\u001b[39;00m\n\u001b[1;32m      5\u001b[0m \u001b[38;5;66;03m# Search for the uppercase word Information\u001b[39;00m\n",
      "\u001b[0;31mValueError\u001b[0m: substring not found"
     ]
    }
   ],
   "source": [
    "# Search for Java\n",
    "java_idx = data_quote.index(\"Java\")\n",
    "print(\"Starting indx:\", java_idx) # Raises ValueError as the word \"Java\" is not in the String for data_quote variable\n",
    "\n",
    "# Search for the uppercase word Information\n",
    "print(\"Starting indx:\", data_quote.index(\"Information\")) # Raises ValueError - Search is case sensitive and there is no uppercase word for Information "
   ]
  },
  {
   "cell_type": "markdown",
   "id": "3213c377-51b0-4e1f-b1b5-94c7f44c7861",
   "metadata": {},
   "source": [
    "#### Start Parameter"
   ]
  },
  {
   "cell_type": "code",
   "execution_count": 6,
   "id": "5d846bbf-0f89-4e84-af80-d03d01678f06",
   "metadata": {},
   "outputs": [
    {
     "name": "stdout",
     "output_type": "stream",
     "text": [
      "Starting index: 30\n"
     ]
    }
   ],
   "source": [
    "search_word = \"information\"\n",
    "start_param_search = data_quote.index(search_word, 30) # Searching from substring \"information and information into insight\"\n",
    "print(\"Starting index:\", start_param_search) # Returns 30 - Still counting index from the full String"
   ]
  },
  {
   "cell_type": "code",
   "execution_count": 7,
   "id": "3d16d6e8-9a19-4aec-9902-03bb987fa67c",
   "metadata": {},
   "outputs": [
    {
     "ename": "ValueError",
     "evalue": "substring not found",
     "output_type": "error",
     "traceback": [
      "\u001b[0;31m---------------------------------------------------------------------------\u001b[0m",
      "\u001b[0;31mValueError\u001b[0m                                Traceback (most recent call last)",
      "Cell \u001b[0;32mIn[7], line 2\u001b[0m\n\u001b[1;32m      1\u001b[0m \u001b[38;5;66;03m# Search for Goal in the substring\u001b[39;00m\n\u001b[0;32m----> 2\u001b[0m \u001b[38;5;28mprint\u001b[39m(\u001b[38;5;124m\"\u001b[39m\u001b[38;5;124mStarting index:\u001b[39m\u001b[38;5;124m\"\u001b[39m, \u001b[43mdata_quote\u001b[49m\u001b[38;5;241;43m.\u001b[39;49m\u001b[43mindex\u001b[49m\u001b[43m(\u001b[49m\u001b[38;5;124;43m\"\u001b[39;49m\u001b[38;5;124;43mgoal\u001b[39;49m\u001b[38;5;124;43m\"\u001b[39;49m\u001b[43m,\u001b[49m\u001b[43m \u001b[49m\u001b[38;5;241;43m30\u001b[39;49m\u001b[43m)\u001b[49m)\n",
      "\u001b[0;31mValueError\u001b[0m: substring not found"
     ]
    }
   ],
   "source": [
    "# Search for Goal in the substring\n",
    "print(\"Starting index:\", data_quote.index(\"goal\", 30)) # Raises ValueError as the word goal is not in the Substring"
   ]
  },
  {
   "cell_type": "code",
   "execution_count": 8,
   "id": "0ac071a9-8c94-4d01-8c84-5bf45f85e1d3",
   "metadata": {},
   "outputs": [
    {
     "name": "stdout",
     "output_type": "stream",
     "text": [
      "Starting index: 63\n"
     ]
    }
   ],
   "source": [
    "print(\"Starting index:\", data_quote.index(\"insight\", 30)) # Returns 63"
   ]
  },
  {
   "cell_type": "markdown",
   "id": "7d6872e5-9bb5-496e-bd1d-676e698addb7",
   "metadata": {},
   "source": [
    "#### All Parameters"
   ]
  },
  {
   "cell_type": "code",
   "execution_count": 10,
   "id": "c5a009b1-b566-449e-938e-9ae79c224e73",
   "metadata": {},
   "outputs": [
    {
     "name": "stdout",
     "output_type": "stream",
     "text": [
      "Starting index: 58\n",
      "information into insight\n",
      "Starting index: 12\n"
     ]
    }
   ],
   "source": [
    "# Search for the word \\'into\\' using Sub, Start, and End parameters\n",
    "search_sub = data_quote.index(\"into\", 46, 70) # Substring to be searched \\'information into insight\\'\n",
    "print(\"Starting index:\", search_sub)\n",
    "\n",
    "# Not the same when creating a new variable for the substring with slice notation\n",
    "sliced_str = data_quote[46:70] # New String - \\'Information into insight\\'\n",
    "print(sliced_str)\n",
    "print(\"Starting index:\", sliced_str.index(\"into\")) # Return 12 - As it is not counting from the start of the previous string but the current string"
   ]
  },
  {
   "cell_type": "code",
   "execution_count": null,
   "id": "0c927f0a-4f52-463b-a16b-874436e82ecf",
   "metadata": {},
   "outputs": [],
   "source": []
  },
  {
   "cell_type": "code",
   "execution_count": null,
   "id": "26ee977a-f76b-413d-9cf1-15dce34ebaf7",
   "metadata": {},
   "outputs": [],
   "source": []
  }
 ],
 "metadata": {
  "kernelspec": {
   "display_name": "Python 3 (ipykernel)",
   "language": "python",
   "name": "python3"
  },
  "language_info": {
   "codemirror_mode": {
    "name": "ipython",
    "version": 3
   },
   "file_extension": ".py",
   "mimetype": "text/x-python",
   "name": "python",
   "nbconvert_exporter": "python",
   "pygments_lexer": "ipython3",
   "version": "3.10.12"
  }
 },
 "nbformat": 4,
 "nbformat_minor": 5
}
