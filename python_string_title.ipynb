{
 "cells": [
  {
   "cell_type": "markdown",
   "id": "21a57687-1e9e-4565-abd7-a41fa997cb05",
   "metadata": {},
   "source": [
    "### Python String title()"
   ]
  },
  {
   "cell_type": "markdown",
   "id": "75f13ed4-4b0c-4d33-a1c5-9dc4f24227f5",
   "metadata": {},
   "source": [
    "In Python, the title() method returns a titlecased version of the string where all words start and with uppercase characters, all remaining characters are lowercase. \n",
    "\n",
    "**Syntax**\n",
    "\n",
    "string_object.title()\n",
    "\n",
    "The title() method does not take any parameter. "
   ]
  },
  {
   "cell_type": "code",
   "execution_count": 1,
   "id": "bba5ea35-b97f-4b9d-b88e-27dca44a87e3",
   "metadata": {},
   "outputs": [
    {
     "data": {
      "text/plain": [
       "'all words in this sentence are not capitalized.'"
      ]
     },
     "execution_count": 1,
     "metadata": {},
     "output_type": "execute_result"
    }
   ],
   "source": [
    "# all words in the following sentence are not capitalized\n",
    "uncapSentence = \"all words in this sentence are not capitalized.\"\n",
    "uncapSentence"
   ]
  },
  {
   "cell_type": "code",
   "execution_count": 2,
   "id": "c2d30f9e-7ffa-4643-8830-fd2d098380d0",
   "metadata": {},
   "outputs": [
    {
     "name": "stdout",
     "output_type": "stream",
     "text": [
      "All Words In This Sentence Are Not Capitalized.\n"
     ]
    }
   ],
   "source": [
    "# capitalize first letter for all words in the string\n",
    "# Returns \"All words in this sentence are not capitalized.\"\n",
    "print(uncapSentence.title())  # \"All...\""
   ]
  },
  {
   "cell_type": "markdown",
   "id": "7ae2784a-7164-46ed-aa94-156cd022b457",
   "metadata": {},
   "source": [
    "String interpolation with **title()** method"
   ]
  },
  {
   "cell_type": "code",
   "execution_count": 3,
   "id": "00113fec-4ce4-4234-ac26-4c87c7f6e879",
   "metadata": {},
   "outputs": [
    {
     "name": "stdout",
     "output_type": "stream",
     "text": [
      "Python and Java are both programming languages.\n"
     ]
    }
   ],
   "source": [
    "print(\"python\".title(), \"and\", \"java\".title(), \"are both programming languages.\")"
   ]
  },
  {
   "cell_type": "code",
   "execution_count": 4,
   "id": "d7b69667-13df-49cd-bf3e-2cf5748e98d6",
   "metadata": {},
   "outputs": [
    {
     "name": "stdout",
     "output_type": "stream",
     "text": [
      "Original lowercase sentence\n",
      "python and java are both programming languages \n",
      "\n"
     ]
    }
   ],
   "source": [
    "# store both python and java strings as a variable for concatenation\n",
    "python_lang = \"python\"\n",
    "java_lang = \"java\"\n",
    "\n",
    "print(\"Original lowercase sentence\")\n",
    "print(python_lang, \"and\", java_lang, \"are both programming languages\", \"\\n\")"
   ]
  },
  {
   "cell_type": "code",
   "execution_count": 5,
   "id": "6a15d5c3-35bc-46ce-b57f-eeb7cad9e4e1",
   "metadata": {},
   "outputs": [
    {
     "name": "stdout",
     "output_type": "stream",
     "text": [
      "Capitalized sentence\n",
      "Python and Java are both programming languages.\n"
     ]
    }
   ],
   "source": [
    "print(\"Capitalized sentence\")\n",
    "print(python_lang.title(), \"and\", java_lang.title(), \"are both programming languages.\")"
   ]
  },
  {
   "cell_type": "markdown",
   "id": "2bb3f587-ba00-41b0-b94b-348df2bd49a4",
   "metadata": {},
   "source": [
    "When the word starts with a number or a symbol the next letter encountered will be converted to uppercase. "
   ]
  },
  {
   "cell_type": "code",
   "execution_count": 6,
   "id": "7c72ea9b-055f-4146-9e38-359a02f4d022",
   "metadata": {},
   "outputs": [
    {
     "name": "stdout",
     "output_type": "stream",
     "text": [
      "Original Uncapitalized word:  4.hello \n",
      "\n",
      "Capitalized first letter after number and symbol 4.Hello\n"
     ]
    }
   ],
   "source": [
    "num_word = \"4.hello\"\n",
    "print(\"Original Uncapitalized word: \", num_word, \"\\n\")\n",
    "print(\"Capitalized first letter after number and symbol\", num_word.title()) # 4.Hello"
   ]
  },
  {
   "cell_type": "code",
   "execution_count": null,
   "id": "fed56a81-66f6-4fb1-a2fd-5879b735b911",
   "metadata": {},
   "outputs": [],
   "source": []
  },
  {
   "cell_type": "code",
   "execution_count": null,
   "id": "f0a56bb1-db5c-4ae6-8f58-5beac8cb4c3a",
   "metadata": {},
   "outputs": [],
   "source": []
  }
 ],
 "metadata": {
  "kernelspec": {
   "display_name": "Python 3 (ipykernel)",
   "language": "python",
   "name": "python3"
  },
  "language_info": {
   "codemirror_mode": {
    "name": "ipython",
    "version": 3
   },
   "file_extension": ".py",
   "mimetype": "text/x-python",
   "name": "python",
   "nbconvert_exporter": "python",
   "pygments_lexer": "ipython3",
   "version": "3.10.12"
  }
 },
 "nbformat": 4,
 "nbformat_minor": 5
}
