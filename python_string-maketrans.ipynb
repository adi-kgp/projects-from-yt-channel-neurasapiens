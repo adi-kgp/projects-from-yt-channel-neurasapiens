{
 "cells": [
  {
   "cell_type": "markdown",
   "id": "d1895c13-3e45-4a7b-b425-858320394153",
   "metadata": {},
   "source": [
    "### Python String maketrans()"
   ]
  },
  {
   "cell_type": "markdown",
   "id": "1a029c38-7062-4f40-a37a-6943c0915552",
   "metadata": {},
   "source": [
    "In Python, the maketrans() method returns a translation table usable for the String translate() method.\n",
    "\n",
    "**Syntax**\n",
    "\n",
    "string_object.maketrans(x, y=None, z=None, /)\n",
    "\n",
    "For the String method maketrans() there are three parameters. One is x which is a **required** parameter where if only one argument is provided, it must be a dictionary. Or y an optional parameter which is if two arguments are provided they must be two strings with equal length. The third parameter z is also optional which is if three arguments are passed then each character in the third argument is mapped to None. "
   ]
  },
  {
   "cell_type": "markdown",
   "id": "520dfb90-e5ea-449e-8d16-90d19c209b3b",
   "metadata": {},
   "source": [
    "#### Parameter x Using Dictionary"
   ]
  },
  {
   "cell_type": "code",
   "execution_count": 1,
   "id": "eda3b0ff-75a0-4cb8-aef6-7e2f8babe273",
   "metadata": {},
   "outputs": [
    {
     "name": "stdout",
     "output_type": "stream",
     "text": [
      "{68: 'durian', 66: 'banana', 79: 'orange'}\n"
     ]
    }
   ],
   "source": [
    "# Create a dictionary \n",
    "dict_map = {\"D\": \"durian\", \"B\": \"banana\", \"O\":\"orange\"}\n",
    "empty_str = \"\"\n",
    "print(empty_str.maketrans(dict_map)) # Returns a mapping of each key letter to its Unicode ordinal/decimal"
   ]
  },
  {
   "cell_type": "markdown",
   "id": "dea51ab6-8f1a-45df-a378-5a6f827b66df",
   "metadata": {},
   "source": [
    "#### Parameter y"
   ]
  },
  {
   "cell_type": "code",
   "execution_count": 3,
   "id": "7b7635b5-7046-473b-b36d-e40630bb16fb",
   "metadata": {},
   "outputs": [
    {
     "name": "stdout",
     "output_type": "stream",
     "text": [
      "{68: 65, 66: 67, 79: 89}\n"
     ]
    },
    {
     "ename": "ValueError",
     "evalue": "the first two maketrans arguments must have equal length",
     "output_type": "error",
     "traceback": [
      "\u001b[0;31m---------------------------------------------------------------------------\u001b[0m",
      "\u001b[0;31mValueError\u001b[0m                                Traceback (most recent call last)",
      "Cell \u001b[0;32mIn[3], line 10\u001b[0m\n\u001b[1;32m      7\u001b[0m \u001b[38;5;66;03m# Different String Lengths\u001b[39;00m\n\u001b[1;32m      8\u001b[0m ssstring \u001b[38;5;241m=\u001b[39m \u001b[38;5;124m\"\u001b[39m\u001b[38;5;124mACYZK\u001b[39m\u001b[38;5;124m\"\u001b[39m\n\u001b[0;32m---> 10\u001b[0m \u001b[38;5;28mprint\u001b[39m(\u001b[43mnew_empty_str\u001b[49m\u001b[38;5;241;43m.\u001b[39;49m\u001b[43mmaketrans\u001b[49m\u001b[43m(\u001b[49m\u001b[43mfstring\u001b[49m\u001b[43m,\u001b[49m\u001b[43m \u001b[49m\u001b[43mssstring\u001b[49m\u001b[43m)\u001b[49m) \u001b[38;5;66;03m# Raises ValueError - As the mapping is no longer 1-1\u001b[39;00m\n",
      "\u001b[0;31mValueError\u001b[0m: the first two maketrans arguments must have equal length"
     ]
    }
   ],
   "source": [
    "fstring = \"DBO\"\n",
    "sstring = \"ACY\"\n",
    "new_empty_str = \"\"\n",
    "\n",
    "print(new_empty_str.maketrans(fstring, sstring)) # Unicode ordinal D:A, B:C, O:Y\n",
    "\n",
    "# Different String Lengths\n",
    "ssstring = \"ACYZK\"\n",
    "\n",
    "print(new_empty_str.maketrans(fstring, ssstring)) # Raises ValueError - As the mapping is no longer 1-1"
   ]
  },
  {
   "cell_type": "markdown",
   "id": "84eb4ab2-66d8-4106-9ec7-2d2a7654bd54",
   "metadata": {},
   "source": [
    "#### Parameter z"
   ]
  },
  {
   "cell_type": "code",
   "execution_count": 5,
   "id": "28ca069d-735a-40af-a1e4-5de037782750",
   "metadata": {},
   "outputs": [
    {
     "name": "stdout",
     "output_type": "stream",
     "text": [
      "{68: None, 66: None, 79: 89, 90: None}\n"
     ]
    }
   ],
   "source": [
    "tstring = \"DBZ\"\n",
    "print(new_empty_str.maketrans(fstring, sstring, tstring)) # With the third parameter D and B mapping are now None and the new character Z is added with None"
   ]
  },
  {
   "cell_type": "code",
   "execution_count": null,
   "id": "92bfb4d1-8f97-4ee1-96df-de645c26dc54",
   "metadata": {},
   "outputs": [],
   "source": []
  },
  {
   "cell_type": "code",
   "execution_count": null,
   "id": "447e8820-acd4-4fbc-b944-9eece048a957",
   "metadata": {},
   "outputs": [],
   "source": []
  },
  {
   "cell_type": "code",
   "execution_count": null,
   "id": "a3b568e5-1bdc-46ef-8cce-9847b8b9574c",
   "metadata": {},
   "outputs": [],
   "source": []
  },
  {
   "cell_type": "code",
   "execution_count": null,
   "id": "70f9fb4a-eac0-443d-bdfa-d1004583e6f9",
   "metadata": {},
   "outputs": [],
   "source": []
  },
  {
   "cell_type": "code",
   "execution_count": null,
   "id": "91a8466b-dea5-4230-8291-7a6099f5a641",
   "metadata": {},
   "outputs": [],
   "source": []
  }
 ],
 "metadata": {
  "kernelspec": {
   "display_name": "Python 3 (ipykernel)",
   "language": "python",
   "name": "python3"
  },
  "language_info": {
   "codemirror_mode": {
    "name": "ipython",
    "version": 3
   },
   "file_extension": ".py",
   "mimetype": "text/x-python",
   "name": "python",
   "nbconvert_exporter": "python",
   "pygments_lexer": "ipython3",
   "version": "3.10.12"
  }
 },
 "nbformat": 4,
 "nbformat_minor": 5
}
