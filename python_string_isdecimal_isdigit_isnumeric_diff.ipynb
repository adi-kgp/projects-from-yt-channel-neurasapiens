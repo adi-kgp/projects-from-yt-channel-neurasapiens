{
 "cells": [
  {
   "cell_type": "markdown",
   "id": "5f348004-680f-4da6-8909-bdb38759850b",
   "metadata": {},
   "source": [
    "### Python String isdecimal(), isdigit() and isnumeric() Methods Difference\n",
    "\n",
    "In Python, there are String methods isdecimal(), isdigit() and isnumeric() which each check if a specified String satisfies the conditions for\n",
    "each method and returns True if it does. Otherwise, it will return False."
   ]
  },
  {
   "cell_type": "markdown",
   "id": "be359667-d716-4b03-b536-fa68b46bbaca",
   "metadata": {},
   "source": [
    "**Syntax**\n",
    "\n",
    "* string_object.isdecimal()\n",
    "* string_object.isdigit()\n",
    "* string_object.isnumeric()\n",
    "\n",
    "For the String methods isdecimal(), isdigit() and isnumeric() there are no parameters."
   ]
  },
  {
   "cell_type": "code",
   "execution_count": 1,
   "id": "115a8971-5358-4057-a879-ceb27e7328d0",
   "metadata": {},
   "outputs": [
    {
     "data": {
      "text/plain": [
       "'797'"
      ]
     },
     "execution_count": 1,
     "metadata": {},
     "output_type": "execute_result"
    }
   ],
   "source": [
    "str_int_var = \"797\"\n",
    "str_int_var"
   ]
  },
  {
   "cell_type": "markdown",
   "id": "7ea2abde-a15a-4915-abf0-56e32cb97f34",
   "metadata": {},
   "source": [
    "#### Decimal Check"
   ]
  },
  {
   "cell_type": "code",
   "execution_count": 8,
   "id": "2b596f32-d19b-49dd-976d-d9acc04a5524",
   "metadata": {},
   "outputs": [
    {
     "name": "stdout",
     "output_type": "stream",
     "text": [
      "Is the String Integer '797' valid decimal characters: True\n",
      "⁷⁹⁷\n",
      "False\n",
      "⅞\n",
      "False\n"
     ]
    }
   ],
   "source": [
    "print(\"Is the String Integer \\'797\\' valid decimal characters:\", str_int_var.isdecimal()) # Return True - Contains decimal characters\n",
    "\n",
    "# Unicode Superscript 797 where 7 == \\u2077 and 9 == \\u2079\n",
    "unicode_sup = \"\\u2077\\u2079\\u2077\"\n",
    "print(unicode_sup)\n",
    "print(unicode_sup.isdecimal()) # Return False - isdecimal() method does not consider superscript and subscript as decimal characters\n",
    "\n",
    "# Unicode Vulgar Fraction for % (7/8) - \\u215E\n",
    "vfrac = \"\\u215E\"\n",
    "print(vfrac)\n",
    "print(vfrac.isdecimal()) # Return False - All fractions, roman numerals and currency numerators are not considered decimal characters"
   ]
  },
  {
   "cell_type": "markdown",
   "id": "f7b2f226-7122-472d-9961-39c9828df872",
   "metadata": {},
   "source": [
    "#### Digit Check"
   ]
  },
  {
   "cell_type": "code",
   "execution_count": 11,
   "id": "01ba3f5d-5e3b-4e64-b4cf-9d2ba05ed9cf",
   "metadata": {},
   "outputs": [
    {
     "name": "stdout",
     "output_type": "stream",
     "text": [
      "Is the String integer '797' valid digit characters: True\n",
      "True\n",
      "False\n"
     ]
    }
   ],
   "source": [
    "print(\"Is the String integer \\'797\\' valid digit characters:\", str_int_var.isdigit()) # Return True\n",
    "print(unicode_sup.isdigit()) # Return True - isdigit() method considers superscript and subscript as digit characters\n",
    "print(vfrac.isdigit()) # Return False - All fractions, roman numerals and currency numerators are not considered digit characters"
   ]
  },
  {
   "cell_type": "markdown",
   "id": "38b9fdd6-9c67-439a-b471-2f95a2cd2f6e",
   "metadata": {},
   "source": [
    "#### Numeric Check"
   ]
  },
  {
   "cell_type": "code",
   "execution_count": 12,
   "id": "3089c88a-ad5c-42d1-a8a9-a04faa30dc40",
   "metadata": {},
   "outputs": [
    {
     "name": "stdout",
     "output_type": "stream",
     "text": [
      "Is the String integer '797' valid numeric characters:  True\n",
      "True\n",
      "True\n"
     ]
    }
   ],
   "source": [
    "print(\"Is the String integer \\'797\\' valid numeric characters: \", str_int_var.isnumeric()) # Returns True - valid numeric characters\n",
    "print(unicode_sup.isnumeric()) # Return True - isnumeric() method considers superscript and subscript as valid numeric characters\n",
    "print(vfrac.isnumeric()) # Returns True - All fractions , roman numerals and currency numerators are numeric characters"
   ]
  },
  {
   "cell_type": "code",
   "execution_count": null,
   "id": "3b1399a1-4bd4-4291-912d-154a58a3e180",
   "metadata": {},
   "outputs": [],
   "source": []
  }
 ],
 "metadata": {
  "kernelspec": {
   "display_name": "Python 3 (ipykernel)",
   "language": "python",
   "name": "python3"
  },
  "language_info": {
   "codemirror_mode": {
    "name": "ipython",
    "version": 3
   },
   "file_extension": ".py",
   "mimetype": "text/x-python",
   "name": "python",
   "nbconvert_exporter": "python",
   "pygments_lexer": "ipython3",
   "version": "3.10.12"
  }
 },
 "nbformat": 4,
 "nbformat_minor": 5
}
