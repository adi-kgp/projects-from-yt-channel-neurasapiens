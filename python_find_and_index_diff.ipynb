{
 "cells": [
  {
   "cell_type": "markdown",
   "id": "ac178411-32f2-4c3e-9632-fe8ebc209353",
   "metadata": {},
   "source": [
    "### Python String Methods find() and index() Difference"
   ]
  },
  {
   "cell_type": "markdown",
   "id": "2cf31e91-6666-4b08-a442-31275550ddd2",
   "metadata": {},
   "source": [
    "In Python, the find() and index() methods return the lowest index in the specified String where the specified substring sub is found, such that sub is contained within the specified String[start:end].Both methods have two optional arguments start and end which are interpreted as a slice notation. \n",
    "\n",
    "**Syntax**\n",
    "\n",
    "* string_object.find(sub[, start[, end]])\n",
    "* string_object.index(sub[, start[, end]])\n",
    "\n",
    "For the String methods find() and index() they both have three parameters. One required parameter sub which is the substring to be searched for and two optional Start and End index parameters. "
   ]
  },
  {
   "cell_type": "code",
   "execution_count": 1,
   "id": "988bf205-83bf-4666-9004-55d787661159",
   "metadata": {},
   "outputs": [
    {
     "data": {
      "text/plain": [
       "'The goal is to turn data into information and information into insight'"
      ]
     },
     "execution_count": 1,
     "metadata": {},
     "output_type": "execute_result"
    }
   ],
   "source": [
    "data_quote = \"The goal is to turn data into information and information into insight\"\n",
    "data_quote"
   ]
  },
  {
   "cell_type": "markdown",
   "id": "d3bb30a8-1996-4220-8452-9a36100337fb",
   "metadata": {},
   "source": [
    "#### Error Handling for find() method"
   ]
  },
  {
   "cell_type": "code",
   "execution_count": 2,
   "id": "fd27b489-933c-4499-bc16-96ed61a31fc4",
   "metadata": {},
   "outputs": [
    {
     "name": "stdout",
     "output_type": "stream",
     "text": [
      "Starting index for the first occurrence of the word 'information' in the String is:  30\n",
      "-1\n"
     ]
    }
   ],
   "source": [
    "# Searching for the word 'information'\n",
    "search_info = data_quote.find(\"information\")\n",
    "print(\"Starting index for the first occurrence of the word \\'information\\' in the String is: \", search_info) # returns 30 - Based on the first occurrence of the string \n",
    "\n",
    "# Search for the word 'javascript'\n",
    "print(data_quote.find(\"JavaScript\")) # For the find() method, if the substring is not found, it returns -1 "
   ]
  },
  {
   "cell_type": "markdown",
   "id": "77f55190-e20b-4905-aaa9-5463ac1b159e",
   "metadata": {},
   "source": [
    "#### Error Handling for Index() method"
   ]
  },
  {
   "cell_type": "code",
   "execution_count": 3,
   "id": "ae69c6a4-7af3-4be5-b8e9-a8285a9d9107",
   "metadata": {},
   "outputs": [
    {
     "name": "stdout",
     "output_type": "stream",
     "text": [
      "Starting index for the first occurrence of the word 'information' in the String is:  30\n"
     ]
    },
    {
     "ename": "ValueError",
     "evalue": "substring not found",
     "output_type": "error",
     "traceback": [
      "\u001b[0;31m---------------------------------------------------------------------------\u001b[0m",
      "\u001b[0;31mValueError\u001b[0m                                Traceback (most recent call last)",
      "Cell \u001b[0;32mIn[3], line 5\u001b[0m\n\u001b[1;32m      2\u001b[0m search_info_idx \u001b[38;5;241m=\u001b[39m data_quote\u001b[38;5;241m.\u001b[39mindex(\u001b[38;5;124m\"\u001b[39m\u001b[38;5;124minformation\u001b[39m\u001b[38;5;124m\"\u001b[39m)\n\u001b[1;32m      3\u001b[0m \u001b[38;5;28mprint\u001b[39m(\u001b[38;5;124m\"\u001b[39m\u001b[38;5;124mStarting index for the first occurrence of the word \u001b[39m\u001b[38;5;130;01m\\'\u001b[39;00m\u001b[38;5;124minformation\u001b[39m\u001b[38;5;130;01m\\'\u001b[39;00m\u001b[38;5;124m in the String is: \u001b[39m\u001b[38;5;124m\"\u001b[39m, search_info_idx) \u001b[38;5;66;03m# Returns 30 - Based on first occurrence\u001b[39;00m\n\u001b[0;32m----> 5\u001b[0m \u001b[38;5;28mprint\u001b[39m(\u001b[43mdata_quote\u001b[49m\u001b[38;5;241;43m.\u001b[39;49m\u001b[43mindex\u001b[49m\u001b[43m(\u001b[49m\u001b[38;5;124;43m\"\u001b[39;49m\u001b[38;5;124;43mJavaScript\u001b[39;49m\u001b[38;5;124;43m\"\u001b[39;49m\u001b[43m)\u001b[49m) \u001b[38;5;66;03m# For the index method it will raise a ValueError if the specified substring is not found\u001b[39;00m\n",
      "\u001b[0;31mValueError\u001b[0m: substring not found"
     ]
    }
   ],
   "source": [
    "# Search for the word information with index()\n",
    "search_info_idx = data_quote.index(\"information\")\n",
    "print(\"Starting index for the first occurrence of the word \\'information\\' in the String is: \", search_info_idx) # Returns 30 - Based on first occurrence\n",
    "\n",
    "print(data_quote.index(\"JavaScript\")) # For the index method it will raise a ValueError if the specified substring is not found"
   ]
  },
  {
   "cell_type": "code",
   "execution_count": null,
   "id": "cf3f9952-cd45-4d69-ab45-29c9fe5edba8",
   "metadata": {},
   "outputs": [],
   "source": []
  }
 ],
 "metadata": {
  "kernelspec": {
   "display_name": "Python 3 (ipykernel)",
   "language": "python",
   "name": "python3"
  },
  "language_info": {
   "codemirror_mode": {
    "name": "ipython",
    "version": 3
   },
   "file_extension": ".py",
   "mimetype": "text/x-python",
   "name": "python",
   "nbconvert_exporter": "python",
   "pygments_lexer": "ipython3",
   "version": "3.10.12"
  }
 },
 "nbformat": 4,
 "nbformat_minor": 5
}
