{
 "cells": [
  {
   "cell_type": "markdown",
   "id": "c0d13994-137a-4de2-adfd-d12bd749bb4f",
   "metadata": {},
   "source": [
    "### Python String ljust()\n",
    "\n",
    "In Python, the ljust() method returns the specified String left-justified based on a given length width. The padding is done using the specified fill character where the default used is a whitespace. "
   ]
  },
  {
   "cell_type": "markdown",
   "id": "1696f48b-d3e0-45cc-bc03-f6a481e8c7e2",
   "metadata": {},
   "source": [
    "**Syntax**\n",
    "\n",
    "string_object.ljust(width[, fillchar])\n",
    "\n",
    "For the String method ljust() there are two parameters. Width is a required parameter which is the width of the specified String. The optional parameter fillchar is used to specify the character used to fill the remaining spaces of the given width. "
   ]
  },
  {
   "cell_type": "code",
   "execution_count": 1,
   "id": "37d32bd9-ad36-48dc-839c-d9c4230ea26e",
   "metadata": {},
   "outputs": [
    {
     "data": {
      "text/plain": [
       "'Machine Learning is an application of artifical intelligence.'"
      ]
     },
     "execution_count": 1,
     "metadata": {},
     "output_type": "execute_result"
    }
   ],
   "source": [
    "machine_learning = \"Machine Learning is an application of artifical intelligence.\"\n",
    "machine_learning"
   ]
  },
  {
   "cell_type": "markdown",
   "id": "d467ded2-2fa1-44af-8bed-a822e6c27a73",
   "metadata": {},
   "source": [
    "#### Width Parameter"
   ]
  },
  {
   "cell_type": "code",
   "execution_count": 2,
   "id": "e194734e-8f0b-46cd-9f11-b75e882c9f5d",
   "metadata": {},
   "outputs": [
    {
     "name": "stdout",
     "output_type": "stream",
     "text": [
      "Left-justified String: Machine Learning is an application of artifical intelligence.       \n"
     ]
    }
   ],
   "source": [
    "left_string = machine_learning.ljust(len(machine_learning) + 7)\n",
    "print(\"Left-justified String:\", left_string) # Return left-justified String with additional 7 whitespaces"
   ]
  },
  {
   "cell_type": "markdown",
   "id": "c7ab786d-10e7-467b-9694-8afcf1e0f87e",
   "metadata": {},
   "source": [
    "#### All Parameters"
   ]
  },
  {
   "cell_type": "code",
   "execution_count": 4,
   "id": "586c9e3d-be96-4e95-8e09-8da73336905f",
   "metadata": {},
   "outputs": [
    {
     "name": "stdout",
     "output_type": "stream",
     "text": [
      "Left-justified String:  Machine Learning is an application of artifical intelligence.@@@@@@@\n",
      "#######\n"
     ]
    }
   ],
   "source": [
    "at_char = \"@\"\n",
    "left_str_filled = machine_learning.ljust(len(machine_learning) + 7, at_char) # Using both width and fillchar parameters\n",
    "print(\"Left-justified String: \", left_str_filled) # Return String filled with @ symbol for the additonal 7 characters\n",
    "\n",
    "empty_str = \"\"\n",
    "print(empty_str.ljust(7, \"#\")) # Return 7 hashtags "
   ]
  },
  {
   "cell_type": "code",
   "execution_count": null,
   "id": "afdea980-228f-4e93-89e7-c311d05ecf48",
   "metadata": {},
   "outputs": [],
   "source": []
  },
  {
   "cell_type": "code",
   "execution_count": null,
   "id": "f354c7b5-2a4b-4e34-bade-cc9a0262738d",
   "metadata": {},
   "outputs": [],
   "source": []
  },
  {
   "cell_type": "code",
   "execution_count": null,
   "id": "7c3c7889-4e38-4065-a44c-89cf98664956",
   "metadata": {},
   "outputs": [],
   "source": []
  },
  {
   "cell_type": "code",
   "execution_count": null,
   "id": "87453b56-5678-4397-bed2-3bafef1aac45",
   "metadata": {},
   "outputs": [],
   "source": []
  }
 ],
 "metadata": {
  "kernelspec": {
   "display_name": "Python 3 (ipykernel)",
   "language": "python",
   "name": "python3"
  },
  "language_info": {
   "codemirror_mode": {
    "name": "ipython",
    "version": 3
   },
   "file_extension": ".py",
   "mimetype": "text/x-python",
   "name": "python",
   "nbconvert_exporter": "python",
   "pygments_lexer": "ipython3",
   "version": "3.10.12"
  }
 },
 "nbformat": 4,
 "nbformat_minor": 5
}
